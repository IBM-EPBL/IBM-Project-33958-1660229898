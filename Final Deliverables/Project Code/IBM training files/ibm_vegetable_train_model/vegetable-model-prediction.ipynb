{
 "cells": [
  {
   "cell_type": "code",
   "execution_count": 9,
   "id": "4ab45a9e",
   "metadata": {},
   "outputs": [],
   "source": [
    "import tensorflow as tf"
   ]
  },
  {
   "cell_type": "code",
   "execution_count": 10,
   "id": "4cd5ab95",
   "metadata": {},
   "outputs": [],
   "source": [
    "import numpy as np"
   ]
  },
  {
   "cell_type": "code",
   "execution_count": 11,
   "id": "d9fd3268",
   "metadata": {},
   "outputs": [],
   "source": [
    "model = tf.keras.models.load_model('vegetable_model_ibm.h5')"
   ]
  },
  {
   "cell_type": "code",
   "execution_count": 12,
   "id": "34b3a788",
   "metadata": {},
   "outputs": [],
   "source": [
    "def process_image(path):\n",
    "    img = tf.image.decode_image(tf.io.read_file(path))\n",
    "    img = tf.cast(img, tf.float32)\n",
    "    img = img / 255.\n",
    "    img = tf.image.resize(img, [100,100])\n",
    "    img_tensor = tf.convert_to_tensor(img)\n",
    "    img_tensor = tf.expand_dims(img, axis=0)\n",
    "    return img_tensor"
   ]
  },
  {
   "cell_type": "code",
   "execution_count": 18,
   "id": "a2da4193",
   "metadata": {},
   "outputs": [],
   "source": [
    "image_pred = process_image('tomato.JPG')\n"
   ]
  },
  {
   "cell_type": "code",
   "execution_count": 19,
   "id": "15fefe42",
   "metadata": {},
   "outputs": [],
   "source": [
    "VEGETABLE_CLASS_NAMES = ['Pepper,_bell___Bacterial_spot','Pepper,_bell___healthy','Potato___Early_blight','Potato___healthy','Potato___Late_blight','Tomato___Bacterial_spot','Tomato___Late_blight','Tomato___Leaf_Mold','Tomato___Septoria_leaf_spot']"
   ]
  },
  {
   "cell_type": "code",
   "execution_count": null,
   "id": "5a7334ef",
   "metadata": {},
   "outputs": [],
   "source": []
  },
  {
   "cell_type": "code",
   "execution_count": 20,
   "id": "92a6f5c3",
   "metadata": {},
   "outputs": [
    {
     "data": {
      "text/plain": [
       "TensorShape([1, 100, 100, 3])"
      ]
     },
     "execution_count": 20,
     "metadata": {},
     "output_type": "execute_result"
    }
   ],
   "source": [
    "image_pred.shape\n"
   ]
  },
  {
   "cell_type": "code",
   "execution_count": 21,
   "id": "aafb312b",
   "metadata": {},
   "outputs": [
    {
     "name": "stdout",
     "output_type": "stream",
     "text": [
      "1/1 [==============================] - 1s 1s/step\n",
      "The image is a tomato___late_blight\n"
     ]
    }
   ],
   "source": [
    "prediction = np.argmax(model.predict(image_pred),axis=1)\n",
    "print((\"The image is a \" + str(VEGETABLE_CLASS_NAMES[prediction[0]])).capitalize())"
   ]
  },
  {
   "cell_type": "code",
   "execution_count": 22,
   "id": "7031ddbe",
   "metadata": {},
   "outputs": [],
   "source": [
    "import cv2\n",
    "\n",
    "img = cv2.imread('tomato.JPG', cv2.IMREAD_UNCHANGED)\n",
    "dim=(100,100)\n"
   ]
  },
  {
   "cell_type": "code",
   "execution_count": 23,
   "id": "c541efc8",
   "metadata": {},
   "outputs": [
    {
     "name": "stdout",
     "output_type": "stream",
     "text": [
      "Resized Dimensions :  (100, 100, 4)\n"
     ]
    }
   ],
   "source": [
    "resized = cv2.resize(img, dim, interpolation = cv2.INTER_AREA)\n",
    "print('Resized Dimensions : ',resized.shape)"
   ]
  },
  {
   "cell_type": "code",
   "execution_count": null,
   "id": "af391b3d",
   "metadata": {},
   "outputs": [],
   "source": []
  }
 ],
 "metadata": {
  "kernelspec": {
   "display_name": "Python 3 (ipykernel)",
   "language": "python",
   "name": "python3"
  },
  "language_info": {
   "codemirror_mode": {
    "name": "ipython",
    "version": 3
   },
   "file_extension": ".py",
   "mimetype": "text/x-python",
   "name": "python",
   "nbconvert_exporter": "python",
   "pygments_lexer": "ipython3",
   "version": "3.9.13"
  }
 },
 "nbformat": 4,
 "nbformat_minor": 5
}
