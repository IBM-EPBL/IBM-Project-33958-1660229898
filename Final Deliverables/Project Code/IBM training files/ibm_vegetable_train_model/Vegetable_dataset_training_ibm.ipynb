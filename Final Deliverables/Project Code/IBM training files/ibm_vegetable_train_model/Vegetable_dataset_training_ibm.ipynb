{
 "cells": [
  {
   "cell_type": "markdown",
   "id": "6uvXcjsKmve_",
   "metadata": {
    "id": "6uvXcjsKmve_"
   },
   "source": [
    "## **Vegetable Modelling**"
   ]
  },
  {
   "cell_type": "code",
   "execution_count": 1,
   "id": "16f7ec04",
   "metadata": {},
   "outputs": [
    {
     "data": {
      "text/plain": [
       "'/home/wsuser/work'"
      ]
     },
     "execution_count": 1,
     "metadata": {},
     "output_type": "execute_result"
    }
   ],
   "source": [
    "pwd"
   ]
  },
  {
   "cell_type": "code",
   "execution_count": 2,
   "id": "3f28aaa9",
   "metadata": {},
   "outputs": [
    {
     "name": "stdout",
     "output_type": "stream",
     "text": [
      "Requirement already satisfied: tensorflow in /opt/conda/envs/Python-3.9/lib/python3.9/site-packages (2.7.2)\n",
      "Requirement already satisfied: google-pasta>=0.1.1 in /opt/conda/envs/Python-3.9/lib/python3.9/site-packages (from tensorflow) (0.2.0)\n",
      "Requirement already satisfied: tensorflow-estimator<2.8,~=2.7.0 in /opt/conda/envs/Python-3.9/lib/python3.9/site-packages (from tensorflow) (2.7.0)\n",
      "Requirement already satisfied: flatbuffers<3.0,>=1.12 in /opt/conda/envs/Python-3.9/lib/python3.9/site-packages (from tensorflow) (2.0)\n",
      "Requirement already satisfied: keras<2.8,>=2.7.0 in /opt/conda/envs/Python-3.9/lib/python3.9/site-packages (from tensorflow) (2.7.0)\n",
      "Requirement already satisfied: tensorflow-io-gcs-filesystem>=0.21.0 in /opt/conda/envs/Python-3.9/lib/python3.9/site-packages (from tensorflow) (0.23.1)\n",
      "Requirement already satisfied: wheel<1.0,>=0.32.0 in /opt/conda/envs/Python-3.9/lib/python3.9/site-packages (from tensorflow) (0.37.0)\n",
      "Requirement already satisfied: numpy>=1.14.5 in /opt/conda/envs/Python-3.9/lib/python3.9/site-packages (from tensorflow) (1.20.3)\n",
      "Requirement already satisfied: termcolor>=1.1.0 in /opt/conda/envs/Python-3.9/lib/python3.9/site-packages (from tensorflow) (1.1.0)\n",
      "Requirement already satisfied: six>=1.12.0 in /opt/conda/envs/Python-3.9/lib/python3.9/site-packages (from tensorflow) (1.15.0)\n",
      "Requirement already satisfied: astunparse>=1.6.0 in /opt/conda/envs/Python-3.9/lib/python3.9/site-packages (from tensorflow) (1.6.3)\n",
      "Requirement already satisfied: absl-py>=0.4.0 in /opt/conda/envs/Python-3.9/lib/python3.9/site-packages (from tensorflow) (0.12.0)\n",
      "Requirement already satisfied: wrapt>=1.11.0 in /opt/conda/envs/Python-3.9/lib/python3.9/site-packages (from tensorflow) (1.12.1)\n",
      "Requirement already satisfied: gast<0.5.0,>=0.2.1 in /opt/conda/envs/Python-3.9/lib/python3.9/site-packages (from tensorflow) (0.4.0)\n",
      "Requirement already satisfied: opt-einsum>=2.3.2 in /opt/conda/envs/Python-3.9/lib/python3.9/site-packages (from tensorflow) (3.3.0)\n",
      "Requirement already satisfied: typing-extensions>=3.6.6 in /opt/conda/envs/Python-3.9/lib/python3.9/site-packages (from tensorflow) (4.1.1)\n",
      "Requirement already satisfied: keras-preprocessing>=1.1.1 in /opt/conda/envs/Python-3.9/lib/python3.9/site-packages (from tensorflow) (1.1.2)\n",
      "Requirement already satisfied: tensorboard~=2.7 in /opt/conda/envs/Python-3.9/lib/python3.9/site-packages (from tensorflow) (2.7.0)\n",
      "Requirement already satisfied: grpcio<2.0,>=1.24.3 in /opt/conda/envs/Python-3.9/lib/python3.9/site-packages (from tensorflow) (1.42.0)\n",
      "Requirement already satisfied: h5py>=2.9.0 in /opt/conda/envs/Python-3.9/lib/python3.9/site-packages (from tensorflow) (3.2.1)\n",
      "Requirement already satisfied: protobuf>=3.9.2 in /opt/conda/envs/Python-3.9/lib/python3.9/site-packages (from tensorflow) (3.19.1)\n",
      "Requirement already satisfied: markdown>=2.6.8 in /opt/conda/envs/Python-3.9/lib/python3.9/site-packages (from tensorboard~=2.7->tensorflow) (3.3.3)\n",
      "Requirement already satisfied: tensorboard-plugin-wit>=1.6.0 in /opt/conda/envs/Python-3.9/lib/python3.9/site-packages (from tensorboard~=2.7->tensorflow) (1.6.0)\n",
      "Requirement already satisfied: google-auth-oauthlib<0.5,>=0.4.1 in /opt/conda/envs/Python-3.9/lib/python3.9/site-packages (from tensorboard~=2.7->tensorflow) (0.4.4)\n",
      "Requirement already satisfied: tensorboard-data-server<0.7.0,>=0.6.0 in /opt/conda/envs/Python-3.9/lib/python3.9/site-packages (from tensorboard~=2.7->tensorflow) (0.6.1)\n",
      "Requirement already satisfied: setuptools>=41.0.0 in /opt/conda/envs/Python-3.9/lib/python3.9/site-packages (from tensorboard~=2.7->tensorflow) (58.0.4)\n",
      "Requirement already satisfied: google-auth<3,>=1.6.3 in /opt/conda/envs/Python-3.9/lib/python3.9/site-packages (from tensorboard~=2.7->tensorflow) (1.23.0)\n",
      "Requirement already satisfied: requests<3,>=2.21.0 in /opt/conda/envs/Python-3.9/lib/python3.9/site-packages (from tensorboard~=2.7->tensorflow) (2.26.0)\n",
      "Requirement already satisfied: werkzeug>=0.11.15 in /opt/conda/envs/Python-3.9/lib/python3.9/site-packages (from tensorboard~=2.7->tensorflow) (2.0.2)\n",
      "Requirement already satisfied: cachetools<5.0,>=2.0.0 in /opt/conda/envs/Python-3.9/lib/python3.9/site-packages (from google-auth<3,>=1.6.3->tensorboard~=2.7->tensorflow) (4.2.2)\n",
      "Requirement already satisfied: rsa<5,>=3.1.4 in /opt/conda/envs/Python-3.9/lib/python3.9/site-packages (from google-auth<3,>=1.6.3->tensorboard~=2.7->tensorflow) (4.7.2)\n",
      "Requirement already satisfied: pyasn1-modules>=0.2.1 in /opt/conda/envs/Python-3.9/lib/python3.9/site-packages (from google-auth<3,>=1.6.3->tensorboard~=2.7->tensorflow) (0.2.8)\n",
      "Requirement already satisfied: requests-oauthlib>=0.7.0 in /opt/conda/envs/Python-3.9/lib/python3.9/site-packages (from google-auth-oauthlib<0.5,>=0.4.1->tensorboard~=2.7->tensorflow) (1.3.0)\n",
      "Requirement already satisfied: pyasn1<0.5.0,>=0.4.6 in /opt/conda/envs/Python-3.9/lib/python3.9/site-packages (from pyasn1-modules>=0.2.1->google-auth<3,>=1.6.3->tensorboard~=2.7->tensorflow) (0.4.8)\n",
      "Requirement already satisfied: charset-normalizer~=2.0.0 in /opt/conda/envs/Python-3.9/lib/python3.9/site-packages (from requests<3,>=2.21.0->tensorboard~=2.7->tensorflow) (2.0.4)\n",
      "Requirement already satisfied: certifi>=2017.4.17 in /opt/conda/envs/Python-3.9/lib/python3.9/site-packages (from requests<3,>=2.21.0->tensorboard~=2.7->tensorflow) (2022.9.24)\n",
      "Requirement already satisfied: idna<4,>=2.5 in /opt/conda/envs/Python-3.9/lib/python3.9/site-packages (from requests<3,>=2.21.0->tensorboard~=2.7->tensorflow) (3.3)\n",
      "Requirement already satisfied: urllib3<1.27,>=1.21.1 in /opt/conda/envs/Python-3.9/lib/python3.9/site-packages (from requests<3,>=2.21.0->tensorboard~=2.7->tensorflow) (1.26.7)\n",
      "Requirement already satisfied: oauthlib>=3.0.0 in /opt/conda/envs/Python-3.9/lib/python3.9/site-packages (from requests-oauthlib>=0.7.0->google-auth-oauthlib<0.5,>=0.4.1->tensorboard~=2.7->tensorflow) (3.2.1)\n"
     ]
    }
   ],
   "source": [
    "!pip install tensorflow"
   ]
  },
  {
   "cell_type": "code",
   "execution_count": 3,
   "id": "319f553b",
   "metadata": {},
   "outputs": [
    {
     "name": "stdout",
     "output_type": "stream",
     "text": [
      "Requirement already satisfied: keras in /opt/conda/envs/Python-3.9/lib/python3.9/site-packages (2.7.0)\r\n"
     ]
    }
   ],
   "source": [
    "!pip install keras"
   ]
  },
  {
   "cell_type": "markdown",
   "id": "Arl2pJQim1C1",
   "metadata": {
    "id": "Arl2pJQim1C1"
   },
   "source": [
    "**IMPORT NECESSARY PACKAGES**"
   ]
  },
  {
   "cell_type": "code",
   "execution_count": 4,
   "id": "66fae69f",
   "metadata": {
    "id": "66fae69f"
   },
   "outputs": [],
   "source": [
    "from tensorflow import keras"
   ]
  },
  {
   "cell_type": "code",
   "execution_count": 5,
   "id": "0742bfb5",
   "metadata": {
    "id": "0742bfb5"
   },
   "outputs": [],
   "source": [
    "import os\n",
    "import cv2\n",
    "import numpy as np\n",
    "import tensorflow as tf"
   ]
  },
  {
   "cell_type": "code",
   "execution_count": 6,
   "id": "209ed642",
   "metadata": {
    "id": "209ed642"
   },
   "outputs": [],
   "source": [
    "categories = ['Pepper,_bell___Bacterial_spot','Pepper,_bell___healthy','Potato___Early_blight','Potato___healthy','Potato___Late_blight','Tomato___Bacterial_spot','Tomato___Late_blight','Tomato___Leaf_Mold','Tomato___Septoria_leaf_spot']"
   ]
  },
  {
   "cell_type": "markdown",
   "id": "Jmy2n6xKm41N",
   "metadata": {
    "id": "Jmy2n6xKm41N"
   },
   "source": [
    "**UPLOAD DATASET**"
   ]
  },
  {
   "cell_type": "code",
   "execution_count": 9,
   "id": "6a1cbf0e",
   "metadata": {},
   "outputs": [],
   "source": [
    "\n",
    "import os, types\n",
    "import pandas as pd\n",
    "from botocore.client import Config\n",
    "import ibm_boto3\n",
    "\n",
    "def __iter__(self): return 0\n",
    "\n",
    "# @hidden_cell\n",
    "# The following code accesses a file in your IBM Cloud Object Storage. It includes your credentials.\n",
    "# You might want to remove those credentials before you share the notebook.\n",
    "cos_client = ibm_boto3.client(service_name='s3',\n",
    "    ibm_api_key_id='vE3Hbzepn_CelL3B3ukJykuZ_Iq-aAeTUtOk0kykig3e',\n",
    "    ibm_auth_endpoint=\"https://iam.cloud.ibm.com/oidc/token\",\n",
    "    config=Config(signature_version='oauth'),\n",
    "    endpoint_url='https://s3.private.us.cloud-object-storage.appdomain.cloud')\n",
    "\n",
    "bucket = 'vegetableclassification-donotdelete-pr-zexqx5zjyyluv9'\n",
    "object_key = 'Veg-dataset.zip'\n",
    "\n",
    "streaming_body_3 = cos_client.get_object(Bucket=bucket, Key=object_key)['Body']\n",
    "\n",
    "# Your data file was loaded into a botocore.response.StreamingBody object.\n",
    "# Please read the documentation of ibm_boto3 and pandas to learn more about the possibilities to load the data.\n",
    "# ibm_boto3 documentation: https://ibm.github.io/ibm-cos-sdk-python/\n",
    "# pandas documentation: http://pandas.pydata.org/\n"
   ]
  },
  {
   "cell_type": "code",
   "execution_count": 10,
   "id": "59FEGC0bmAwW",
   "metadata": {
    "id": "59FEGC0bmAwW"
   },
   "outputs": [],
   "source": [
    "from io import BytesIO\n",
    "import zipfile\n",
    "unzip = zipfile.ZipFile(BytesIO(streaming_body_3.read()), 'r')\n",
    "file_paths = unzip.namelist()\n",
    "for path in file_paths:\n",
    "    unzip.extract(path)"
   ]
  },
  {
   "cell_type": "code",
   "execution_count": 11,
   "id": "755becde",
   "metadata": {
    "id": "755becde"
   },
   "outputs": [],
   "source": [
    "data_dir = '/home/wsuser/work/Veg-dataset/train_set'"
   ]
  },
  {
   "cell_type": "code",
   "execution_count": 12,
   "id": "a22ded3c",
   "metadata": {
    "id": "a22ded3c"
   },
   "outputs": [],
   "source": [
    "data = []"
   ]
  },
  {
   "cell_type": "code",
   "execution_count": 13,
   "id": "5de235a2",
   "metadata": {
    "id": "5de235a2"
   },
   "outputs": [],
   "source": [
    "img_size = 100\n",
    "def make_data():\n",
    "    for category in categories:\n",
    "        path = os.path.join(data_dir, category)\n",
    "        label = categories.index(category)\n",
    "        for img_name in os.listdir(path):\n",
    "            image_path = os.path.join(path, img_name)\n",
    "            image = cv2.imread(image_path)\n",
    "            try:\n",
    "                image = cv2.cvtColor(image, cv2.COLOR_BGR2RGB)\n",
    "                image = cv2.resize(image,(img_size,img_size))\n",
    "                image = np.array(image, dtype=np.float32)\n",
    "                data.append([image,label])\n",
    "            except Exception as e:\n",
    "                pass  \n",
    "            \n",
    "make_data() "
   ]
  },
  {
   "cell_type": "code",
   "execution_count": 14,
   "id": "6d154cc4",
   "metadata": {
    "colab": {
     "base_uri": "https://localhost:8080/"
    },
    "id": "6d154cc4",
    "outputId": "fd5856bf-2695-4f8d-b60b-83b428ddd578"
   },
   "outputs": [
    {
     "data": {
      "text/plain": [
       "11386"
      ]
     },
     "execution_count": 14,
     "metadata": {},
     "output_type": "execute_result"
    }
   ],
   "source": [
    "len(data)"
   ]
  },
  {
   "cell_type": "code",
   "execution_count": 15,
   "id": "9293a489",
   "metadata": {
    "id": "9293a489"
   },
   "outputs": [],
   "source": [
    "np.random.shuffle(data)"
   ]
  },
  {
   "cell_type": "code",
   "execution_count": 16,
   "id": "92418b3e",
   "metadata": {
    "id": "92418b3e"
   },
   "outputs": [],
   "source": [
    "features = []\n",
    "labels = []\n",
    "for img,label in data:\n",
    "    features.append(img)\n",
    "    labels.append(label)"
   ]
  },
  {
   "cell_type": "code",
   "execution_count": 17,
   "id": "737dfdf1",
   "metadata": {
    "id": "737dfdf1"
   },
   "outputs": [],
   "source": [
    "features = np.array(features, dtype = np.float32)\n",
    "labels = np.array(labels)\n",
    "features = features/255.0"
   ]
  },
  {
   "cell_type": "markdown",
   "id": "IkaBNw-Mm8ih",
   "metadata": {
    "id": "IkaBNw-Mm8ih"
   },
   "source": [
    "**ADD LAYERS**"
   ]
  },
  {
   "cell_type": "code",
   "execution_count": 18,
   "id": "55111e6c",
   "metadata": {
    "id": "55111e6c"
   },
   "outputs": [],
   "source": [
    "input_layer = tf.keras.layers.Input([100,100,3])"
   ]
  },
  {
   "cell_type": "code",
   "execution_count": 19,
   "id": "a09da28b",
   "metadata": {
    "id": "a09da28b"
   },
   "outputs": [],
   "source": [
    "conv1 = tf.keras.layers.Conv2D(filters = 64, kernel_size = (5,5), padding = 'Same', activation = 'relu')(input_layer)"
   ]
  },
  {
   "cell_type": "code",
   "execution_count": 20,
   "id": "6d38b402",
   "metadata": {
    "id": "6d38b402"
   },
   "outputs": [],
   "source": [
    "pool1 = tf.keras.layers.MaxPooling2D(pool_size = (2,2))(conv1)"
   ]
  },
  {
   "cell_type": "code",
   "execution_count": 21,
   "id": "a13dc609",
   "metadata": {
    "id": "a13dc609"
   },
   "outputs": [],
   "source": [
    "conv2 = tf.keras.layers.Conv2D(filters = 64, kernel_size = (3,3), padding = 'Same', activation = 'relu')(pool1)"
   ]
  },
  {
   "cell_type": "code",
   "execution_count": 22,
   "id": "063b994a",
   "metadata": {
    "id": "063b994a"
   },
   "outputs": [],
   "source": [
    "pool2 = tf.keras.layers.MaxPooling2D(pool_size = (2,2), strides = (2,2))(conv2)"
   ]
  },
  {
   "cell_type": "code",
   "execution_count": 23,
   "id": "07bfcc44",
   "metadata": {
    "id": "07bfcc44"
   },
   "outputs": [],
   "source": [
    "conv3 = tf.keras.layers.Conv2D(filters = 96, kernel_size = (3,3), padding = 'Same', activation = 'relu')(pool2)"
   ]
  },
  {
   "cell_type": "code",
   "execution_count": 24,
   "id": "1ea5c54d",
   "metadata": {
    "id": "1ea5c54d"
   },
   "outputs": [],
   "source": [
    "pool3 = tf.keras.layers.MaxPooling2D(pool_size = (2,2), strides = (2,2))(conv3)"
   ]
  },
  {
   "cell_type": "code",
   "execution_count": 25,
   "id": "b70f073b",
   "metadata": {
    "id": "b70f073b"
   },
   "outputs": [],
   "source": [
    "conv4 = tf.keras.layers.Conv2D(filters = 96, kernel_size = (3,3), padding = 'Same', activation = 'relu')(pool3)"
   ]
  },
  {
   "cell_type": "code",
   "execution_count": 26,
   "id": "9bb798fb",
   "metadata": {
    "id": "9bb798fb"
   },
   "outputs": [],
   "source": [
    "pool4 = tf.keras.layers.MaxPooling2D(pool_size = (2,2), strides = (2,2))(conv4)"
   ]
  },
  {
   "cell_type": "code",
   "execution_count": 27,
   "id": "e61da430",
   "metadata": {
    "id": "e61da430"
   },
   "outputs": [],
   "source": [
    "flt1 = tf.keras.layers.Flatten()(pool4)"
   ]
  },
  {
   "cell_type": "code",
   "execution_count": 28,
   "id": "7c4e104b",
   "metadata": {
    "id": "7c4e104b"
   },
   "outputs": [],
   "source": [
    "dn1 = tf.keras.layers.Dense(256,activation = 'relu')(flt1)"
   ]
  },
  {
   "cell_type": "code",
   "execution_count": 29,
   "id": "f0accafa",
   "metadata": {
    "id": "f0accafa"
   },
   "outputs": [],
   "source": [
    "dn2 = tf.keras.layers.Dense(124,activation = 'relu')(dn1)"
   ]
  },
  {
   "cell_type": "code",
   "execution_count": 30,
   "id": "9e81ae67",
   "metadata": {
    "id": "9e81ae67"
   },
   "outputs": [],
   "source": [
    "out = tf.keras.layers.Dense(10,activation = 'softmax')(dn1)"
   ]
  },
  {
   "cell_type": "markdown",
   "id": "CThtxBNhnC3j",
   "metadata": {
    "id": "CThtxBNhnC3j"
   },
   "source": [
    "**MODELING**"
   ]
  },
  {
   "cell_type": "code",
   "execution_count": 31,
   "id": "efcf3c83",
   "metadata": {
    "id": "efcf3c83"
   },
   "outputs": [],
   "source": [
    "model = tf.keras.Model(input_layer, out)"
   ]
  },
  {
   "cell_type": "code",
   "execution_count": 32,
   "id": "e5094b38",
   "metadata": {
    "id": "e5094b38"
   },
   "outputs": [],
   "source": [
    "model.compile(optimizer = 'adam', loss = 'sparse_categorical_crossentropy', metrics = ['accuracy'])"
   ]
  },
  {
   "cell_type": "code",
   "execution_count": 33,
   "id": "Y-gSO7EInBov",
   "metadata": {
    "colab": {
     "base_uri": "https://localhost:8080/"
    },
    "id": "Y-gSO7EInBov",
    "outputId": "fc596364-28c2-48c1-b1fc-f03a87834599"
   },
   "outputs": [
    {
     "name": "stdout",
     "output_type": "stream",
     "text": [
      "Model: \"model\"\n",
      "_________________________________________________________________\n",
      " Layer (type)                Output Shape              Param #   \n",
      "=================================================================\n",
      " input_1 (InputLayer)        [(None, 100, 100, 3)]     0         \n",
      "                                                                 \n",
      " conv2d (Conv2D)             (None, 100, 100, 64)      4864      \n",
      "                                                                 \n",
      " max_pooling2d (MaxPooling2D  (None, 50, 50, 64)       0         \n",
      " )                                                               \n",
      "                                                                 \n",
      " conv2d_1 (Conv2D)           (None, 50, 50, 64)        36928     \n",
      "                                                                 \n",
      " max_pooling2d_1 (MaxPooling  (None, 25, 25, 64)       0         \n",
      " 2D)                                                             \n",
      "                                                                 \n",
      " conv2d_2 (Conv2D)           (None, 25, 25, 96)        55392     \n",
      "                                                                 \n",
      " max_pooling2d_2 (MaxPooling  (None, 12, 12, 96)       0         \n",
      " 2D)                                                             \n",
      "                                                                 \n",
      " conv2d_3 (Conv2D)           (None, 12, 12, 96)        83040     \n",
      "                                                                 \n",
      " max_pooling2d_3 (MaxPooling  (None, 6, 6, 96)         0         \n",
      " 2D)                                                             \n",
      "                                                                 \n",
      " flatten (Flatten)           (None, 3456)              0         \n",
      "                                                                 \n",
      " dense (Dense)               (None, 256)               884992    \n",
      "                                                                 \n",
      " dense_2 (Dense)             (None, 10)                2570      \n",
      "                                                                 \n",
      "=================================================================\n",
      "Total params: 1,067,786\n",
      "Trainable params: 1,067,786\n",
      "Non-trainable params: 0\n",
      "_________________________________________________________________\n"
     ]
    }
   ],
   "source": [
    "model.summary()"
   ]
  },
  {
   "cell_type": "markdown",
   "id": "J75O4TApoP5L",
   "metadata": {
    "id": "J75O4TApoP5L"
   },
   "source": [
    "**FIT THE MODEL**"
   ]
  },
  {
   "cell_type": "code",
   "execution_count": 34,
   "id": "3891f1f7",
   "metadata": {
    "colab": {
     "base_uri": "https://localhost:8080/"
    },
    "id": "3891f1f7",
    "outputId": "3d222e33-26ae-4775-bd12-253eb1d49181",
    "scrolled": true
   },
   "outputs": [
    {
     "name": "stdout",
     "output_type": "stream",
     "text": [
      "Epoch 1/10\n",
      "114/114 [==============================] - 297s 3s/step - loss: 1.4045 - accuracy: 0.4950\n",
      "Epoch 2/10\n",
      "114/114 [==============================] - 294s 3s/step - loss: 0.5879 - accuracy: 0.7940\n",
      "Epoch 3/10\n",
      "114/114 [==============================] - 296s 3s/step - loss: 0.3784 - accuracy: 0.8650\n",
      "Epoch 4/10\n",
      "114/114 [==============================] - 297s 3s/step - loss: 0.2757 - accuracy: 0.9040\n",
      "Epoch 5/10\n",
      "114/114 [==============================] - 294s 3s/step - loss: 0.2203 - accuracy: 0.9237\n",
      "Epoch 6/10\n",
      "114/114 [==============================] - 295s 3s/step - loss: 0.1457 - accuracy: 0.9484\n",
      "Epoch 8/10\n",
      "114/114 [==============================] - 296s 3s/step - loss: 0.0870 - accuracy: 0.9699\n",
      "Epoch 9/10\n",
      "114/114 [==============================] - 297s 3s/step - loss: 0.0985 - accuracy: 0.9635\n",
      "Epoch 10/10\n",
      "114/114 [==============================] - 295s 3s/step - loss: 0.0593 - accuracy: 0.9804\n"
     ]
    },
    {
     "data": {
      "text/plain": [
       "<keras.callbacks.History at 0x7fe8a48ba040>"
      ]
     },
     "execution_count": 34,
     "metadata": {},
     "output_type": "execute_result"
    }
   ],
   "source": [
    "model.fit(features, labels, batch_size = 100, epochs = 10)"
   ]
  },
  {
   "cell_type": "markdown",
   "id": "vaPiMk29oTGT",
   "metadata": {
    "id": "vaPiMk29oTGT"
   },
   "source": [
    "**SAVE THE MODEL**"
   ]
  },
  {
   "cell_type": "code",
   "execution_count": 35,
   "id": "d4e76ae0",
   "metadata": {
    "id": "d4e76ae0"
   },
   "outputs": [],
   "source": [
    "model.save('vegetable_model_ibm.h5')"
   ]
  },
  {
   "cell_type": "code",
   "execution_count": 43,
   "id": "7be6bf8f",
   "metadata": {
    "id": "7be6bf8f"
   },
   "outputs": [],
   "source": [
    "data_dir = '/home/wsuser/work/Veg-dataset/test_set'"
   ]
  },
  {
   "cell_type": "code",
   "execution_count": 44,
   "id": "bbf7d89e",
   "metadata": {
    "id": "bbf7d89e"
   },
   "outputs": [],
   "source": [
    "testdata = []"
   ]
  },
  {
   "cell_type": "code",
   "execution_count": 45,
   "id": "7ebc497a",
   "metadata": {},
   "outputs": [
    {
     "data": {
      "text/plain": [
       "'/home/wsuser/work'"
      ]
     },
     "execution_count": 45,
     "metadata": {},
     "output_type": "execute_result"
    }
   ],
   "source": [
    "pwd"
   ]
  },
  {
   "cell_type": "code",
   "execution_count": 46,
   "id": "af618aea",
   "metadata": {
    "id": "af618aea"
   },
   "outputs": [],
   "source": [
    "img_size = 100\n",
    "def make_data():\n",
    "    for category in categories:\n",
    "        path = os.path.join(data_dir, category)\n",
    "        label = categories.index(category)\n",
    "        for img_name in os.listdir(path):\n",
    "            image_path = os.path.join(path, img_name)\n",
    "            image = cv2.imread(image_path)\n",
    "            try:\n",
    "                image = cv2.cvtColor(image, cv2.COLOR_BGR2RGB)\n",
    "                image = cv2.resize(image,(img_size,img_size))\n",
    "                image = np.array(image, dtype=np.float32)\n",
    "                testdata.append([image,label])\n",
    "            except Exception as e:\n",
    "                pass  \n",
    "            \n",
    "make_data() "
   ]
  },
  {
   "cell_type": "code",
   "execution_count": null,
   "id": "68ba90a4",
   "metadata": {},
   "outputs": [],
   "source": []
  },
  {
   "cell_type": "code",
   "execution_count": 47,
   "id": "2ce2ff37",
   "metadata": {
    "id": "2ce2ff37"
   },
   "outputs": [],
   "source": [
    "np.random.shuffle(testdata)"
   ]
  },
  {
   "cell_type": "code",
   "execution_count": 48,
   "id": "12ec4101",
   "metadata": {
    "id": "12ec4101"
   },
   "outputs": [],
   "source": [
    "tfeatures = []\n",
    "tlabels = []\n",
    "for img,label in testdata:\n",
    "    tfeatures.append(img)\n",
    "    tlabels.append(label)"
   ]
  },
  {
   "cell_type": "code",
   "execution_count": 49,
   "id": "9f12ef39",
   "metadata": {
    "id": "9f12ef39"
   },
   "outputs": [],
   "source": [
    "tfeatures = np.array(tfeatures, dtype = np.float32)\n",
    "tlabels = np.array(tlabels)\n",
    "tfeatures = tfeatures/255.0"
   ]
  },
  {
   "cell_type": "code",
   "execution_count": 52,
   "id": "d688fc19",
   "metadata": {
    "id": "d688fc19"
   },
   "outputs": [],
   "source": [
    "model = tf.keras.models.load_model('/home/wsuser/work/vegetable_model_ibm.h5')"
   ]
  },
  {
   "cell_type": "markdown",
   "id": "Y32JNdXGotp0",
   "metadata": {
    "id": "Y32JNdXGotp0"
   },
   "source": [
    "**EVALUATE THE MODEL**"
   ]
  },
  {
   "cell_type": "code",
   "execution_count": 53,
   "id": "f60e07d8",
   "metadata": {
    "colab": {
     "base_uri": "https://localhost:8080/"
    },
    "id": "f60e07d8",
    "outputId": "c85d6f1b-9fdc-49e1-effb-2d5f2167e854"
   },
   "outputs": [
    {
     "name": "stdout",
     "output_type": "stream",
     "text": [
      "82/82 [==============================] - 13s 158ms/step - loss: 0.0782 - accuracy: 0.9765\n"
     ]
    },
    {
     "data": {
      "text/plain": [
       "[0.07822700589895248, 0.9765294194221497]"
      ]
     },
     "execution_count": 53,
     "metadata": {},
     "output_type": "execute_result"
    }
   ],
   "source": [
    "model.evaluate(tfeatures, tlabels, verbose = 1)"
   ]
  },
  {
   "cell_type": "code",
   "execution_count": 54,
   "id": "f28044b1",
   "metadata": {
    "colab": {
     "base_uri": "https://localhost:8080/"
    },
    "id": "f28044b1",
    "outputId": "bbb6ead0-9cce-4c53-94ca-f19e05461e00"
   },
   "outputs": [
    {
     "data": {
      "text/plain": [
       "2599"
      ]
     },
     "execution_count": 54,
     "metadata": {},
     "output_type": "execute_result"
    }
   ],
   "source": [
    "len(testdata)"
   ]
  },
  {
   "cell_type": "markdown",
   "id": "jIXf_t2wox3P",
   "metadata": {
    "id": "jIXf_t2wox3P"
   },
   "source": [
    "**PREDICTING**"
   ]
  },
  {
   "cell_type": "code",
   "execution_count": 55,
   "id": "a293e443",
   "metadata": {
    "colab": {
     "base_uri": "https://localhost:8080/"
    },
    "id": "a293e443",
    "outputId": "8b1cb7b5-1ef4-4b5c-9152-e3ae80db7c89"
   },
   "outputs": [
    {
     "name": "stdout",
     "output_type": "stream",
     "text": [
      "1646 / 1686\n"
     ]
    }
   ],
   "source": [
    "prediction = model.predict(tfeatures)\n",
    "count = 0\n",
    "for i in range(1686):\n",
    "    if categories[tlabels[i]] == categories[np.argmax(prediction[i]) ]:\n",
    "        count+=1\n",
    "print(count,'/',1686)\n",
    "   "
   ]
  },
  {
   "cell_type": "code",
   "execution_count": 56,
   "id": "5fd2d208",
   "metadata": {
    "colab": {
     "base_uri": "https://localhost:8080/"
    },
    "id": "5fd2d208",
    "outputId": "4ffd7e6a-7b95-4c4c-c50d-dbe4342f7166"
   },
   "outputs": [
    {
     "name": "stdout",
     "output_type": "stream",
     "text": [
      "Actual:Tomato___Leaf_Mold\n",
      "Predictions:Tomato___Leaf_Mold\n",
      "Actual:Pepper,_bell___healthy\n",
      "Predictions:Pepper,_bell___healthy\n",
      "Actual:Tomato___Septoria_leaf_spot\n",
      "Predictions:Tomato___Septoria_leaf_spot\n",
      "Actual:Tomato___Late_blight\n",
      "Predictions:Tomato___Late_blight\n",
      "Actual:Tomato___Bacterial_spot\n",
      "Predictions:Tomato___Bacterial_spot\n",
      "Actual:Tomato___Bacterial_spot\n",
      "Predictions:Tomato___Bacterial_spot\n",
      "Actual:Tomato___Bacterial_spot\n",
      "Predictions:Tomato___Bacterial_spot\n",
      "Actual:Pepper,_bell___healthy\n",
      "Predictions:Pepper,_bell___healthy\n",
      "Actual:Potato___Early_blight\n",
      "Predictions:Potato___Early_blight\n",
      "Actual:Potato___Late_blight\n",
      "Predictions:Potato___Late_blight\n",
      "Actual:Pepper,_bell___healthy\n",
      "Predictions:Pepper,_bell___healthy\n",
      "Actual:Pepper,_bell___Bacterial_spot\n",
      "Predictions:Pepper,_bell___Bacterial_spot\n",
      "Actual:Tomato___Septoria_leaf_spot\n",
      "Predictions:Tomato___Septoria_leaf_spot\n",
      "Actual:Tomato___Leaf_Mold\n",
      "Predictions:Tomato___Leaf_Mold\n",
      "Actual:Tomato___Late_blight\n",
      "Predictions:Tomato___Late_blight\n",
      "Actual:Potato___Late_blight\n",
      "Predictions:Potato___Late_blight\n",
      "Actual:Tomato___Septoria_leaf_spot\n",
      "Predictions:Tomato___Septoria_leaf_spot\n",
      "Actual:Pepper,_bell___healthy\n",
      "Predictions:Pepper,_bell___healthy\n",
      "Actual:Pepper,_bell___healthy\n",
      "Predictions:Pepper,_bell___healthy\n",
      "Actual:Tomato___Late_blight\n",
      "Predictions:Tomato___Late_blight\n",
      "Actual:Potato___Late_blight\n",
      "Predictions:Potato___Late_blight\n",
      "Actual:Pepper,_bell___Bacterial_spot\n",
      "Predictions:Pepper,_bell___Bacterial_spot\n",
      "Actual:Tomato___Late_blight\n",
      "Predictions:Tomato___Late_blight\n",
      "Actual:Pepper,_bell___healthy\n",
      "Predictions:Pepper,_bell___healthy\n",
      "Actual:Potato___Early_blight\n",
      "Predictions:Potato___Early_blight\n",
      "Actual:Potato___Late_blight\n",
      "Predictions:Potato___Late_blight\n",
      "Actual:Tomato___Septoria_leaf_spot\n",
      "Predictions:Tomato___Septoria_leaf_spot\n",
      "Actual:Potato___Late_blight\n",
      "Predictions:Potato___Late_blight\n",
      "Actual:Tomato___Septoria_leaf_spot\n",
      "Predictions:Tomato___Septoria_leaf_spot\n",
      "Actual:Tomato___Bacterial_spot\n",
      "Predictions:Tomato___Bacterial_spot\n",
      "Actual:Pepper,_bell___healthy\n",
      "Predictions:Pepper,_bell___healthy\n",
      "Actual:Pepper,_bell___Bacterial_spot\n",
      "Predictions:Pepper,_bell___Bacterial_spot\n",
      "Actual:Tomato___Bacterial_spot\n",
      "Predictions:Tomato___Bacterial_spot\n",
      "Actual:Tomato___Septoria_leaf_spot\n",
      "Predictions:Tomato___Septoria_leaf_spot\n",
      "Actual:Pepper,_bell___healthy\n",
      "Predictions:Potato___Late_blight\n",
      "Actual:Tomato___Septoria_leaf_spot\n",
      "Predictions:Tomato___Septoria_leaf_spot\n",
      "Actual:Tomato___Late_blight\n",
      "Predictions:Tomato___Late_blight\n",
      "Actual:Tomato___Leaf_Mold\n",
      "Predictions:Tomato___Leaf_Mold\n",
      "Actual:Potato___Early_blight\n",
      "Predictions:Potato___Early_blight\n",
      "Actual:Pepper,_bell___healthy\n",
      "Predictions:Pepper,_bell___healthy\n",
      "Actual:Pepper,_bell___Bacterial_spot\n",
      "Predictions:Pepper,_bell___Bacterial_spot\n",
      "Actual:Potato___Late_blight\n",
      "Predictions:Potato___Late_blight\n",
      "Actual:Pepper,_bell___healthy\n",
      "Predictions:Pepper,_bell___healthy\n",
      "Actual:Tomato___Leaf_Mold\n",
      "Predictions:Tomato___Leaf_Mold\n",
      "Actual:Tomato___Late_blight\n",
      "Predictions:Tomato___Late_blight\n",
      "Actual:Potato___Late_blight\n",
      "Predictions:Potato___Late_blight\n",
      "Actual:Tomato___Late_blight\n",
      "Predictions:Tomato___Late_blight\n",
      "Actual:Tomato___Bacterial_spot\n",
      "Predictions:Tomato___Bacterial_spot\n",
      "Actual:Potato___healthy\n",
      "Predictions:Potato___healthy\n",
      "Actual:Pepper,_bell___healthy\n",
      "Predictions:Pepper,_bell___healthy\n",
      "Actual:Pepper,_bell___healthy\n",
      "Predictions:Pepper,_bell___healthy\n",
      "Actual:Pepper,_bell___healthy\n",
      "Predictions:Pepper,_bell___healthy\n",
      "Actual:Tomato___Bacterial_spot\n",
      "Predictions:Tomato___Bacterial_spot\n",
      "Actual:Tomato___Bacterial_spot\n",
      "Predictions:Tomato___Bacterial_spot\n",
      "Actual:Tomato___Bacterial_spot\n",
      "Predictions:Tomato___Bacterial_spot\n",
      "Actual:Tomato___Septoria_leaf_spot\n",
      "Predictions:Tomato___Septoria_leaf_spot\n",
      "Actual:Tomato___Septoria_leaf_spot\n",
      "Predictions:Tomato___Septoria_leaf_spot\n",
      "Actual:Tomato___Bacterial_spot\n",
      "Predictions:Tomato___Bacterial_spot\n",
      "Actual:Pepper,_bell___healthy\n",
      "Predictions:Pepper,_bell___healthy\n",
      "Actual:Pepper,_bell___healthy\n",
      "Predictions:Pepper,_bell___healthy\n",
      "Actual:Potato___Late_blight\n",
      "Predictions:Potato___Late_blight\n",
      "Actual:Pepper,_bell___healthy\n",
      "Predictions:Pepper,_bell___healthy\n",
      "Actual:Pepper,_bell___Bacterial_spot\n",
      "Predictions:Pepper,_bell___Bacterial_spot\n",
      "Actual:Tomato___Late_blight\n",
      "Predictions:Tomato___Late_blight\n",
      "Actual:Potato___Late_blight\n",
      "Predictions:Potato___Late_blight\n",
      "Actual:Tomato___Bacterial_spot\n",
      "Predictions:Tomato___Bacterial_spot\n",
      "Actual:Tomato___Leaf_Mold\n",
      "Predictions:Tomato___Leaf_Mold\n",
      "Actual:Pepper,_bell___Bacterial_spot\n",
      "Predictions:Pepper,_bell___Bacterial_spot\n",
      "Actual:Pepper,_bell___Bacterial_spot\n",
      "Predictions:Pepper,_bell___Bacterial_spot\n",
      "Actual:Tomato___Leaf_Mold\n",
      "Predictions:Tomato___Leaf_Mold\n",
      "Actual:Pepper,_bell___healthy\n",
      "Predictions:Pepper,_bell___healthy\n",
      "Actual:Tomato___Late_blight\n",
      "Predictions:Tomato___Late_blight\n",
      "Actual:Tomato___Leaf_Mold\n",
      "Predictions:Tomato___Leaf_Mold\n",
      "Actual:Potato___Late_blight\n",
      "Predictions:Potato___Late_blight\n",
      "Actual:Tomato___Leaf_Mold\n",
      "Predictions:Tomato___Leaf_Mold\n",
      "Actual:Tomato___Leaf_Mold\n",
      "Predictions:Tomato___Leaf_Mold\n",
      "Actual:Tomato___Bacterial_spot\n",
      "Predictions:Tomato___Bacterial_spot\n",
      "Actual:Tomato___Leaf_Mold\n",
      "Predictions:Tomato___Leaf_Mold\n",
      "Actual:Potato___Early_blight\n",
      "Predictions:Potato___Late_blight\n",
      "Actual:Tomato___Leaf_Mold\n",
      "Predictions:Tomato___Leaf_Mold\n",
      "Actual:Tomato___Septoria_leaf_spot\n",
      "Predictions:Tomato___Septoria_leaf_spot\n",
      "Actual:Pepper,_bell___Bacterial_spot\n",
      "Predictions:Pepper,_bell___Bacterial_spot\n",
      "Actual:Potato___Late_blight\n",
      "Predictions:Potato___Late_blight\n",
      "Actual:Tomato___Septoria_leaf_spot\n",
      "Predictions:Tomato___Septoria_leaf_spot\n",
      "Actual:Tomato___Late_blight\n",
      "Predictions:Tomato___Late_blight\n",
      "Actual:Pepper,_bell___healthy\n",
      "Predictions:Pepper,_bell___healthy\n",
      "Actual:Tomato___Late_blight\n",
      "Predictions:Tomato___Late_blight\n",
      "Actual:Tomato___Bacterial_spot\n",
      "Predictions:Tomato___Bacterial_spot\n",
      "Actual:Tomato___Late_blight\n",
      "Predictions:Tomato___Late_blight\n",
      "Actual:Potato___Early_blight\n",
      "Predictions:Potato___Early_blight\n",
      "Actual:Tomato___Bacterial_spot\n",
      "Predictions:Tomato___Bacterial_spot\n",
      "Actual:Tomato___Bacterial_spot\n",
      "Predictions:Tomato___Bacterial_spot\n",
      "Actual:Tomato___Bacterial_spot\n",
      "Predictions:Tomato___Bacterial_spot\n",
      "Actual:Potato___healthy\n",
      "Predictions:Potato___healthy\n",
      "Actual:Potato___Late_blight\n",
      "Predictions:Potato___Late_blight\n",
      "Actual:Potato___Late_blight\n",
      "Predictions:Potato___Late_blight\n",
      "Actual:Tomato___Bacterial_spot\n",
      "Predictions:Tomato___Bacterial_spot\n",
      "Actual:Potato___Early_blight\n",
      "Predictions:Potato___Early_blight\n",
      "Actual:Potato___healthy\n",
      "Predictions:Potato___healthy\n",
      "Actual:Tomato___Septoria_leaf_spot\n",
      "Predictions:Tomato___Septoria_leaf_spot\n",
      "Actual:Potato___Late_blight\n",
      "Predictions:Potato___Late_blight\n",
      "Actual:Pepper,_bell___Bacterial_spot\n",
      "Predictions:Potato___Late_blight\n",
      "Actual:Pepper,_bell___healthy\n",
      "Predictions:Pepper,_bell___healthy\n",
      "Actual:Tomato___Septoria_leaf_spot\n",
      "Predictions:Tomato___Septoria_leaf_spot\n",
      "Actual:Potato___Early_blight\n",
      "Predictions:Potato___Early_blight\n",
      "Actual:Tomato___Bacterial_spot\n",
      "Predictions:Tomato___Bacterial_spot\n",
      "Actual:Tomato___Late_blight\n",
      "Predictions:Tomato___Late_blight\n",
      "Actual:Potato___Late_blight\n",
      "Predictions:Potato___Late_blight\n",
      "Actual:Tomato___Bacterial_spot\n",
      "Predictions:Tomato___Bacterial_spot\n",
      "Actual:Tomato___Septoria_leaf_spot\n",
      "Predictions:Tomato___Septoria_leaf_spot\n",
      "Actual:Tomato___Septoria_leaf_spot\n",
      "Predictions:Tomato___Septoria_leaf_spot\n",
      "Actual:Tomato___Late_blight\n",
      "Predictions:Tomato___Late_blight\n",
      "Actual:Potato___Early_blight\n",
      "Predictions:Potato___Early_blight\n",
      "Actual:Tomato___Bacterial_spot\n",
      "Predictions:Tomato___Bacterial_spot\n",
      "Actual:Potato___Late_blight\n",
      "Predictions:Potato___Late_blight\n",
      "Actual:Tomato___Late_blight\n",
      "Predictions:Tomato___Late_blight\n",
      "Actual:Pepper,_bell___healthy\n",
      "Predictions:Pepper,_bell___healthy\n",
      "Actual:Tomato___Bacterial_spot\n",
      "Predictions:Tomato___Bacterial_spot\n",
      "Actual:Tomato___Late_blight\n",
      "Predictions:Tomato___Late_blight\n",
      "Actual:Tomato___Septoria_leaf_spot\n",
      "Predictions:Tomato___Septoria_leaf_spot\n",
      "Actual:Tomato___Bacterial_spot\n",
      "Predictions:Tomato___Bacterial_spot\n",
      "Actual:Potato___Early_blight\n",
      "Predictions:Potato___Early_blight\n",
      "Actual:Tomato___Late_blight\n",
      "Predictions:Tomato___Late_blight\n",
      "Actual:Tomato___Late_blight\n",
      "Predictions:Tomato___Late_blight\n",
      "Actual:Pepper,_bell___Bacterial_spot\n",
      "Predictions:Pepper,_bell___Bacterial_spot\n",
      "Actual:Tomato___Late_blight\n",
      "Predictions:Tomato___Late_blight\n",
      "Actual:Potato___Early_blight\n",
      "Predictions:Potato___Early_blight\n",
      "Actual:Tomato___Bacterial_spot\n",
      "Predictions:Tomato___Bacterial_spot\n",
      "Actual:Tomato___Bacterial_spot\n",
      "Predictions:Tomato___Bacterial_spot\n",
      "Actual:Pepper,_bell___healthy\n",
      "Predictions:Pepper,_bell___healthy\n",
      "Actual:Tomato___Septoria_leaf_spot\n",
      "Predictions:Tomato___Septoria_leaf_spot\n",
      "Actual:Tomato___Leaf_Mold\n",
      "Predictions:Tomato___Leaf_Mold\n",
      "Actual:Tomato___Late_blight\n",
      "Predictions:Tomato___Late_blight\n",
      "Actual:Tomato___Leaf_Mold\n",
      "Predictions:Tomato___Leaf_Mold\n",
      "Actual:Potato___Late_blight\n",
      "Predictions:Potato___Late_blight\n",
      "Actual:Pepper,_bell___healthy\n",
      "Predictions:Pepper,_bell___healthy\n",
      "Actual:Tomato___Septoria_leaf_spot\n",
      "Predictions:Tomato___Septoria_leaf_spot\n",
      "Actual:Potato___Late_blight\n",
      "Predictions:Potato___Late_blight\n",
      "Actual:Tomato___Septoria_leaf_spot\n",
      "Predictions:Tomato___Septoria_leaf_spot\n",
      "Actual:Tomato___Bacterial_spot\n",
      "Predictions:Tomato___Bacterial_spot\n",
      "Actual:Potato___Early_blight\n",
      "Predictions:Potato___Early_blight\n",
      "Actual:Tomato___Bacterial_spot\n",
      "Predictions:Tomato___Bacterial_spot\n",
      "Actual:Tomato___Late_blight\n",
      "Predictions:Tomato___Late_blight\n",
      "Actual:Tomato___Late_blight\n",
      "Predictions:Tomato___Late_blight\n",
      "Actual:Tomato___Late_blight\n",
      "Predictions:Tomato___Late_blight\n",
      "Actual:Potato___healthy\n",
      "Predictions:Potato___healthy\n"
     ]
    }
   ],
   "source": [
    "for i in range(146):\n",
    "    print('Actual:' + categories[tlabels[i]] + '\\n' + 'Predictions:' + categories[np.argmax(prediction[i])])"
   ]
  },
  {
   "cell_type": "code",
   "execution_count": 57,
   "id": "bb6d67d5",
   "metadata": {
    "colab": {
     "base_uri": "https://localhost:8080/"
    },
    "id": "bb6d67d5",
    "outputId": "4a0578b6-7b19-4738-be34-ff6525396c3a"
   },
   "outputs": [
    {
     "name": "stdout",
     "output_type": "stream",
     "text": [
      "1646 /1686\n",
      "97.62752075919336 %\n"
     ]
    }
   ],
   "source": [
    "hi = 0\n",
    "for i in range(1686):\n",
    "    if categories[tlabels[i]] == categories[np.argmax(prediction[i])]:\n",
    "        hi = hi + 1\n",
    "print(hi,'/' + '1686')\n",
    "print(hi*100/1686,'%')"
   ]
  },
  {
   "cell_type": "code",
   "execution_count": 58,
   "id": "279d4fdd",
   "metadata": {},
   "outputs": [],
   "source": [
    "model.save('vegetable_model_ibm.h5')"
   ]
  },
  {
   "cell_type": "code",
   "execution_count": 59,
   "id": "09cf1200",
   "metadata": {},
   "outputs": [
    {
     "name": "stdout",
     "output_type": "stream",
     "text": [
      "vegetable_model_ibm.h5\r\n"
     ]
    }
   ],
   "source": [
    "!tar -zvcf vegetable-leaf-disease-classification-model.tgz vegetable_model_ibm.h5"
   ]
  },
  {
   "cell_type": "code",
   "execution_count": 60,
   "id": "78f6e492",
   "metadata": {},
   "outputs": [
    {
     "name": "stdout",
     "output_type": "stream",
     "text": [
      "\u001b[0m\u001b[01;34mVeg-dataset\u001b[0m/\r\n",
      "vegetable-leaf-disease-classification-model.tgz\r\n",
      "vegetable_model_ibm.h5\r\n"
     ]
    }
   ],
   "source": [
    "ls -1"
   ]
  },
  {
   "cell_type": "code",
   "execution_count": 61,
   "id": "44641169",
   "metadata": {},
   "outputs": [
    {
     "name": "stdout",
     "output_type": "stream",
     "text": [
      "Collecting watson-machine-learning-client\n",
      "  Downloading watson_machine_learning_client-1.0.391-py3-none-any.whl (538 kB)\n",
      "\u001b[K     |████████████████████████████████| 538 kB 16.5 MB/s eta 0:00:01\n",
      "\u001b[?25hRequirement already satisfied: certifi in /opt/conda/envs/Python-3.9/lib/python3.9/site-packages (from watson-machine-learning-client) (2022.9.24)\n",
      "Requirement already satisfied: lomond in /opt/conda/envs/Python-3.9/lib/python3.9/site-packages (from watson-machine-learning-client) (0.3.3)\n",
      "Requirement already satisfied: boto3 in /opt/conda/envs/Python-3.9/lib/python3.9/site-packages (from watson-machine-learning-client) (1.18.21)\n",
      "Requirement already satisfied: tqdm in /opt/conda/envs/Python-3.9/lib/python3.9/site-packages (from watson-machine-learning-client) (4.62.3)\n",
      "Requirement already satisfied: ibm-cos-sdk in /opt/conda/envs/Python-3.9/lib/python3.9/site-packages (from watson-machine-learning-client) (2.11.0)\n",
      "Requirement already satisfied: tabulate in /opt/conda/envs/Python-3.9/lib/python3.9/site-packages (from watson-machine-learning-client) (0.8.9)\n",
      "Requirement already satisfied: urllib3 in /opt/conda/envs/Python-3.9/lib/python3.9/site-packages (from watson-machine-learning-client) (1.26.7)\n",
      "Requirement already satisfied: requests in /opt/conda/envs/Python-3.9/lib/python3.9/site-packages (from watson-machine-learning-client) (2.26.0)\n",
      "Requirement already satisfied: pandas in /opt/conda/envs/Python-3.9/lib/python3.9/site-packages (from watson-machine-learning-client) (1.3.4)\n",
      "Requirement already satisfied: jmespath<1.0.0,>=0.7.1 in /opt/conda/envs/Python-3.9/lib/python3.9/site-packages (from boto3->watson-machine-learning-client) (0.10.0)\n",
      "Requirement already satisfied: botocore<1.22.0,>=1.21.21 in /opt/conda/envs/Python-3.9/lib/python3.9/site-packages (from boto3->watson-machine-learning-client) (1.21.41)\n",
      "Requirement already satisfied: s3transfer<0.6.0,>=0.5.0 in /opt/conda/envs/Python-3.9/lib/python3.9/site-packages (from boto3->watson-machine-learning-client) (0.5.0)\n",
      "Requirement already satisfied: python-dateutil<3.0.0,>=2.1 in /opt/conda/envs/Python-3.9/lib/python3.9/site-packages (from botocore<1.22.0,>=1.21.21->boto3->watson-machine-learning-client) (2.8.2)\n",
      "Requirement already satisfied: six>=1.5 in /opt/conda/envs/Python-3.9/lib/python3.9/site-packages (from python-dateutil<3.0.0,>=2.1->botocore<1.22.0,>=1.21.21->boto3->watson-machine-learning-client) (1.15.0)\n",
      "Requirement already satisfied: ibm-cos-sdk-s3transfer==2.11.0 in /opt/conda/envs/Python-3.9/lib/python3.9/site-packages (from ibm-cos-sdk->watson-machine-learning-client) (2.11.0)\n",
      "Requirement already satisfied: ibm-cos-sdk-core==2.11.0 in /opt/conda/envs/Python-3.9/lib/python3.9/site-packages (from ibm-cos-sdk->watson-machine-learning-client) (2.11.0)\n",
      "Requirement already satisfied: idna<4,>=2.5 in /opt/conda/envs/Python-3.9/lib/python3.9/site-packages (from requests->watson-machine-learning-client) (3.3)\n",
      "Requirement already satisfied: charset-normalizer~=2.0.0 in /opt/conda/envs/Python-3.9/lib/python3.9/site-packages (from requests->watson-machine-learning-client) (2.0.4)\n",
      "Requirement already satisfied: pytz>=2017.3 in /opt/conda/envs/Python-3.9/lib/python3.9/site-packages (from pandas->watson-machine-learning-client) (2021.3)\n",
      "Requirement already satisfied: numpy>=1.17.3 in /opt/conda/envs/Python-3.9/lib/python3.9/site-packages (from pandas->watson-machine-learning-client) (1.20.3)\n",
      "Installing collected packages: watson-machine-learning-client\n",
      "Successfully installed watson-machine-learning-client-1.0.391\n"
     ]
    }
   ],
   "source": [
    "!pip install watson-machine-learning-client --upgrade"
   ]
  },
  {
   "cell_type": "code",
   "execution_count": 62,
   "id": "9e5e53dd",
   "metadata": {},
   "outputs": [],
   "source": [
    "from ibm_watson_machine_learning import APIClient\n",
    "wml_credentials = {\n",
    "                    \"url\":\"https://us-south.ml.cloud.ibm.com\",\n",
    "                    \"apikey\" : \"E7YrzcF6TgDEbJTXH8TZLdWvcIUDXm6CXdXK9sUHswco\"\n",
    "                  }"
   ]
  },
  {
   "cell_type": "code",
   "execution_count": 63,
   "id": "a3a298b6",
   "metadata": {},
   "outputs": [],
   "source": [
    "client = APIClient(wml_credentials)"
   ]
  },
  {
   "cell_type": "code",
   "execution_count": 64,
   "id": "6bf88b11",
   "metadata": {},
   "outputs": [],
   "source": [
    "def guid_from_space_name(client, space_name):\n",
    "    space = client.spaces.get_details()\n",
    "    return(next(item for item in space['resources'] if item['entity']['name'] == space_name)['metadata']['id'])"
   ]
  },
  {
   "cell_type": "code",
   "execution_count": 65,
   "id": "c6d9de70",
   "metadata": {},
   "outputs": [
    {
     "name": "stdout",
     "output_type": "stream",
     "text": [
      "Space UID: 5d381b7f-9c0b-4518-bfe5-bb6b3f4ef8eb\n"
     ]
    }
   ],
   "source": [
    "space_uid = guid_from_space_name(client, \"Vegetableclassification\")\n",
    "print(\"Space UID: \"+space_uid)"
   ]
  },
  {
   "cell_type": "code",
   "execution_count": 66,
   "id": "5e437116",
   "metadata": {},
   "outputs": [
    {
     "data": {
      "text/plain": [
       "'SUCCESS'"
      ]
     },
     "execution_count": 66,
     "metadata": {},
     "output_type": "execute_result"
    }
   ],
   "source": [
    "client.set.default_space(space_uid)"
   ]
  },
  {
   "cell_type": "code",
   "execution_count": 67,
   "id": "5824f2b7",
   "metadata": {},
   "outputs": [
    {
     "data": {
      "text/plain": [
       "'acd9c798-6974-5d2f-a657-ce06e986df4d'"
      ]
     },
     "execution_count": 67,
     "metadata": {},
     "output_type": "execute_result"
    }
   ],
   "source": [
    "software_spec_uid = client.software_specifications.get_uid_by_name(\"tensorflow_rt22.1-py3.9\")\n",
    "software_spec_uid"
   ]
  },
  {
   "cell_type": "code",
   "execution_count": 68,
   "id": "748f5564",
   "metadata": {},
   "outputs": [],
   "source": [
    "model_details = client.repository.store_model(model = 'vegetable-leaf-disease-classification-model.tgz',meta_props={\n",
    "    client.repository.ModelMetaNames.NAME:\"CNN\",\n",
    "    client.repository.ModelMetaNames.TYPE:\"tensorflow_2.7\",\n",
    "    client.repository.ModelMetaNames.SOFTWARE_SPEC_UID:software_spec_uid})"
   ]
  },
  {
   "cell_type": "code",
   "execution_count": 69,
   "id": "76ebfef1",
   "metadata": {},
   "outputs": [],
   "source": [
    "model_id = client.repository.get_model_id(model_details)"
   ]
  },
  {
   "cell_type": "code",
   "execution_count": 70,
   "id": "1a8c5049",
   "metadata": {},
   "outputs": [
    {
     "data": {
      "text/plain": [
       "'ae8d5055-1228-4fdc-9ff8-09ebe5a94924'"
      ]
     },
     "execution_count": 70,
     "metadata": {},
     "output_type": "execute_result"
    }
   ],
   "source": [
    "model_id"
   ]
  },
  {
   "cell_type": "code",
   "execution_count": 71,
   "id": "0bb4c5ea",
   "metadata": {},
   "outputs": [
    {
     "name": "stdout",
     "output_type": "stream",
     "text": [
      "Successfully saved model content to file: 'vegetable-disease-classification-model-new.tar.gz'\n"
     ]
    },
    {
     "data": {
      "text/plain": [
       "'/home/wsuser/work/vegetable-disease-classification-model-new.tar.gz'"
      ]
     },
     "execution_count": 71,
     "metadata": {},
     "output_type": "execute_result"
    }
   ],
   "source": [
    "client.repository.download(model_id, 'vegetable-disease-classification-model-new.tar.gz')"
   ]
  },
  {
   "cell_type": "code",
   "execution_count": null,
   "id": "142bb182",
   "metadata": {},
   "outputs": [],
   "source": []
  }
 ],
 "metadata": {
  "accelerator": "GPU",
  "colab": {
   "provenance": []
  },
  "gpuClass": "standard",
  "kernelspec": {
   "display_name": "Python 3 (ipykernel)",
   "language": "python",
   "name": "python3"
  },
  "language_info": {
   "codemirror_mode": {
    "name": "ipython",
    "version": 3
   },
   "file_extension": ".py",
   "mimetype": "text/x-python",
   "name": "python",
   "nbconvert_exporter": "python",
   "pygments_lexer": "ipython3",
   "version": "3.9.13"
  }
 },
 "nbformat": 4,
 "nbformat_minor": 5
}
