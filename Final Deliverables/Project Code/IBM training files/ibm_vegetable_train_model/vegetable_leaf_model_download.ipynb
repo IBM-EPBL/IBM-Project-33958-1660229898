{
 "cells": [
  {
   "cell_type": "code",
   "execution_count": 1,
   "id": "d1c98d61",
   "metadata": {},
   "outputs": [
    {
     "name": "stdout",
     "output_type": "stream",
     "text": [
      "Collecting watson-machine-learning-client\n",
      "  Downloading watson_machine_learning_client-1.0.391-py3-none-any.whl (538 kB)\n",
      "     -------------------------------------- 538.9/538.9 kB 3.4 MB/s eta 0:00:00\n",
      "Requirement already satisfied: tabulate in c:\\users\\dell\\anaconda3\\lib\\site-packages (from watson-machine-learning-client) (0.8.10)\n",
      "Requirement already satisfied: urllib3 in c:\\users\\dell\\anaconda3\\lib\\site-packages (from watson-machine-learning-client) (1.26.11)\n",
      "Requirement already satisfied: boto3 in c:\\users\\dell\\anaconda3\\lib\\site-packages (from watson-machine-learning-client) (1.24.28)\n",
      "Requirement already satisfied: requests in c:\\users\\dell\\anaconda3\\lib\\site-packages (from watson-machine-learning-client) (2.28.1)\n",
      "Requirement already satisfied: lomond in c:\\users\\dell\\anaconda3\\lib\\site-packages (from watson-machine-learning-client) (0.3.3)\n",
      "Requirement already satisfied: ibm-cos-sdk in c:\\users\\dell\\anaconda3\\lib\\site-packages (from watson-machine-learning-client) (2.11.0)\n",
      "Requirement already satisfied: pandas in c:\\users\\dell\\anaconda3\\lib\\site-packages (from watson-machine-learning-client) (1.4.4)\n",
      "Requirement already satisfied: tqdm in c:\\users\\dell\\anaconda3\\lib\\site-packages (from watson-machine-learning-client) (4.64.1)\n",
      "Requirement already satisfied: certifi in c:\\users\\dell\\anaconda3\\lib\\site-packages (from watson-machine-learning-client) (2022.9.14)\n",
      "Requirement already satisfied: botocore<1.28.0,>=1.27.28 in c:\\users\\dell\\anaconda3\\lib\\site-packages (from boto3->watson-machine-learning-client) (1.27.28)\n",
      "Requirement already satisfied: jmespath<2.0.0,>=0.7.1 in c:\\users\\dell\\anaconda3\\lib\\site-packages (from boto3->watson-machine-learning-client) (0.10.0)\n",
      "Requirement already satisfied: s3transfer<0.7.0,>=0.6.0 in c:\\users\\dell\\anaconda3\\lib\\site-packages (from boto3->watson-machine-learning-client) (0.6.0)\n",
      "Requirement already satisfied: ibm-cos-sdk-s3transfer==2.11.0 in c:\\users\\dell\\anaconda3\\lib\\site-packages (from ibm-cos-sdk->watson-machine-learning-client) (2.11.0)\n",
      "Requirement already satisfied: ibm-cos-sdk-core==2.11.0 in c:\\users\\dell\\anaconda3\\lib\\site-packages (from ibm-cos-sdk->watson-machine-learning-client) (2.11.0)\n",
      "Requirement already satisfied: python-dateutil<3.0.0,>=2.1 in c:\\users\\dell\\anaconda3\\lib\\site-packages (from ibm-cos-sdk-core==2.11.0->ibm-cos-sdk->watson-machine-learning-client) (2.8.2)\n",
      "Requirement already satisfied: idna<4,>=2.5 in c:\\users\\dell\\anaconda3\\lib\\site-packages (from requests->watson-machine-learning-client) (3.3)\n",
      "Requirement already satisfied: charset-normalizer<3,>=2 in c:\\users\\dell\\anaconda3\\lib\\site-packages (from requests->watson-machine-learning-client) (2.0.4)\n",
      "Requirement already satisfied: six>=1.10.0 in c:\\users\\dell\\anaconda3\\lib\\site-packages (from lomond->watson-machine-learning-client) (1.16.0)\n",
      "Requirement already satisfied: numpy>=1.18.5 in c:\\users\\dell\\anaconda3\\lib\\site-packages (from pandas->watson-machine-learning-client) (1.21.5)\n",
      "Requirement already satisfied: pytz>=2020.1 in c:\\users\\dell\\anaconda3\\lib\\site-packages (from pandas->watson-machine-learning-client) (2022.1)\n",
      "Requirement already satisfied: colorama in c:\\users\\dell\\anaconda3\\lib\\site-packages (from tqdm->watson-machine-learning-client) (0.4.5)\n",
      "Installing collected packages: watson-machine-learning-client\n",
      "Successfully installed watson-machine-learning-client-1.0.391\n"
     ]
    }
   ],
   "source": [
    "!pip install watson-machine-learning-client --upgrade"
   ]
  },
  {
   "cell_type": "code",
   "execution_count": 2,
   "id": "743b928c",
   "metadata": {},
   "outputs": [],
   "source": [
    "from ibm_watson_machine_learning import APIClient\n",
    "wml_credentials = {\n",
    "                    \"url\":\"https://us-south.ml.cloud.ibm.com\",\n",
    "                    \"apikey\" : \"E7YrzcF6TgDEbJTXH8TZLdWvcIUDXm6CXdXK9sUHswco\"\n",
    "                  }"
   ]
  },
  {
   "cell_type": "code",
   "execution_count": 3,
   "id": "1da3a554",
   "metadata": {},
   "outputs": [],
   "source": [
    "client = APIClient(wml_credentials)"
   ]
  },
  {
   "cell_type": "code",
   "execution_count": 4,
   "id": "b8d13dd4",
   "metadata": {},
   "outputs": [],
   "source": [
    "def guid_from_space_name(client, space_name):\n",
    "    space = client.spaces.get_details()\n",
    "    return(next(item for item in space['resources'] if item['entity']['name'] == space_name)['metadata']['id'])"
   ]
  },
  {
   "cell_type": "code",
   "execution_count": 5,
   "id": "7eabd2e0",
   "metadata": {},
   "outputs": [
    {
     "name": "stdout",
     "output_type": "stream",
     "text": [
      "Space UID: 5d381b7f-9c0b-4518-bfe5-bb6b3f4ef8eb\n"
     ]
    }
   ],
   "source": [
    "space_uid = guid_from_space_name(client, \"Vegetableclassification\")\n",
    "print(\"Space UID: \"+space_uid)"
   ]
  },
  {
   "cell_type": "code",
   "execution_count": 6,
   "id": "fc064c61",
   "metadata": {},
   "outputs": [
    {
     "data": {
      "text/plain": [
       "'SUCCESS'"
      ]
     },
     "execution_count": 6,
     "metadata": {},
     "output_type": "execute_result"
    }
   ],
   "source": [
    "client.set.default_space(space_uid)"
   ]
  },
  {
   "cell_type": "code",
   "execution_count": 7,
   "id": "09bec8ed",
   "metadata": {},
   "outputs": [
    {
     "data": {
      "text/plain": [
       "'acd9c798-6974-5d2f-a657-ce06e986df4d'"
      ]
     },
     "execution_count": 7,
     "metadata": {},
     "output_type": "execute_result"
    }
   ],
   "source": [
    "software_spec_uid = client.software_specifications.get_uid_by_name(\"tensorflow_rt22.1-py3.9\")\n",
    "software_spec_uid"
   ]
  },
  {
   "cell_type": "code",
   "execution_count": 9,
   "id": "f5d5c645",
   "metadata": {},
   "outputs": [
    {
     "name": "stdout",
     "output_type": "stream",
     "text": [
      "Successfully saved model content to file: 'vegetable-disease-classification-model-new.tar.gz'\n"
     ]
    },
    {
     "data": {
      "text/plain": [
       "'C:\\\\ibmtrain/vegetable-disease-classification-model-new.tar.gz'"
      ]
     },
     "execution_count": 9,
     "metadata": {},
     "output_type": "execute_result"
    }
   ],
   "source": [
    "client.repository.download('ae8d5055-1228-4fdc-9ff8-09ebe5a94924', 'vegetable-disease-classification-model-new.tar.gz')"
   ]
  },
  {
   "cell_type": "code",
   "execution_count": null,
   "id": "8a075b4e",
   "metadata": {},
   "outputs": [],
   "source": []
  }
 ],
 "metadata": {
  "kernelspec": {
   "display_name": "Python 3 (ipykernel)",
   "language": "python",
   "name": "python3"
  },
  "language_info": {
   "codemirror_mode": {
    "name": "ipython",
    "version": 3
   },
   "file_extension": ".py",
   "mimetype": "text/x-python",
   "name": "python",
   "nbconvert_exporter": "python",
   "pygments_lexer": "ipython3",
   "version": "3.9.13"
  }
 },
 "nbformat": 4,
 "nbformat_minor": 5
}
