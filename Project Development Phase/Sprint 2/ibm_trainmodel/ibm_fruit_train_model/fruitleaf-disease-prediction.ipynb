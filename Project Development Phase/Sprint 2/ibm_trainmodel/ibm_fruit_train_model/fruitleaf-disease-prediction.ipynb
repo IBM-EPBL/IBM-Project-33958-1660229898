{
 "cells": [
  {
   "cell_type": "code",
   "execution_count": 1,
   "id": "bbb9778e",
   "metadata": {},
   "outputs": [],
   "source": [
    "import tensorflow as tf"
   ]
  },
  {
   "cell_type": "code",
   "execution_count": 2,
   "id": "6f31d5f9",
   "metadata": {},
   "outputs": [],
   "source": [
    "import numpy as np"
   ]
  },
  {
   "cell_type": "code",
   "execution_count": 3,
   "id": "cde7f3f7",
   "metadata": {},
   "outputs": [],
   "source": [
    "def process_image(path):\n",
    "    img = tf.image.decode_image(tf.io.read_file(path))\n",
    "    img = tf.cast(img, tf.float32)\n",
    "    img = img / 255.\n",
    "    img = tf.image.resize(img, [100,100])\n",
    "    img_tensor = tf.convert_to_tensor(img)\n",
    "    img_tensor = tf.expand_dims(img, axis=0)\n",
    "    return img_tensor"
   ]
  },
  {
   "cell_type": "code",
   "execution_count": 4,
   "id": "73619ddb",
   "metadata": {},
   "outputs": [],
   "source": [
    "model = tf.keras.models.load_model('fruit_model_ibm.h5')"
   ]
  },
  {
   "cell_type": "code",
   "execution_count": 5,
   "id": "51c76a48",
   "metadata": {},
   "outputs": [],
   "source": [
    "FRUIT_TEST_CLASS_NAMES = ['Apple___Black_rot','Apple___healthy','Corn_(maize)___healthy','Corn_(maize)___Northern_Leaf_Blight','Peach___Bacterial_spot','Peach___healthy']"
   ]
  },
  {
   "cell_type": "code",
   "execution_count": 7,
   "id": "4df832d6",
   "metadata": {},
   "outputs": [
    {
     "name": "stdout",
     "output_type": "stream",
     "text": [
      "1/1 [==============================] - 0s 21ms/step\n",
      "The image is a corn_(maize)___northern_leaf_blight\n"
     ]
    }
   ],
   "source": [
    "image_pred = process_image('northBlight.JPG')\n",
    "prediction = np.argmax(model.predict(image_pred),axis=1)\n",
    "\n",
    "print((\"The image is a \" + str(FRUIT_TEST_CLASS_NAMES[prediction[0]])).capitalize())"
   ]
  }
 ],
 "metadata": {
  "kernelspec": {
   "display_name": "Python 3 (ipykernel)",
   "language": "python",
   "name": "python3"
  },
  "language_info": {
   "codemirror_mode": {
    "name": "ipython",
    "version": 3
   },
   "file_extension": ".py",
   "mimetype": "text/x-python",
   "name": "python",
   "nbconvert_exporter": "python",
   "pygments_lexer": "ipython3",
   "version": "3.9.12"
  }
 },
 "nbformat": 4,
 "nbformat_minor": 5
}
