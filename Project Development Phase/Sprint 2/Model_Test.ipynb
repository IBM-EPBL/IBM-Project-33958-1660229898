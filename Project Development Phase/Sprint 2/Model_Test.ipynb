{
  "cells": [
    {
      "cell_type": "markdown",
      "source": [
        "## **Testing the Models**"
      ],
      "metadata": {
        "id": "kdhuMyYaw_pL"
      },
      "id": "kdhuMyYaw_pL"
    },
    {
      "cell_type": "markdown",
      "source": [
        "**Import necessary packages**"
      ],
      "metadata": {
        "id": "ZASUReslsuLB"
      },
      "id": "ZASUReslsuLB"
    },
    {
      "cell_type": "code",
      "execution_count": 1,
      "id": "8d195767",
      "metadata": {
        "id": "8d195767"
      },
      "outputs": [],
      "source": [
        "import tensorflow as tf"
      ]
    },
    {
      "cell_type": "code",
      "execution_count": 2,
      "id": "30ddc320",
      "metadata": {
        "id": "30ddc320"
      },
      "outputs": [],
      "source": [
        "import numpy as np"
      ]
    },
    {
      "cell_type": "code",
      "execution_count": 5,
      "id": "00a93d2b",
      "metadata": {
        "id": "00a93d2b"
      },
      "outputs": [],
      "source": [
        "def process_image(path):\n",
        "    img = tf.image.decode_image(tf.io.read_file(path))\n",
        "    img = tf.cast(img, tf.float32)\n",
        "    img = img / 255.\n",
        "    img = tf.image.resize(img, [100,100])\n",
        "    img_tensor = tf.convert_to_tensor(img)\n",
        "    img_tensor = tf.expand_dims(img, axis=0)\n",
        "    return img_tensor"
      ]
    },
    {
      "cell_type": "markdown",
      "source": [
        "## **Fruit Model testing**"
      ],
      "metadata": {
        "id": "WsSlEUD3w7Pp"
      },
      "id": "WsSlEUD3w7Pp"
    },
    {
      "cell_type": "markdown",
      "source": [
        "**Loading the saved Model**"
      ],
      "metadata": {
        "id": "Za8o3GFbsyhM"
      },
      "id": "Za8o3GFbsyhM"
    },
    {
      "cell_type": "code",
      "execution_count": 4,
      "id": "942fb83a",
      "metadata": {
        "id": "942fb83a"
      },
      "outputs": [],
      "source": [
        "model = tf.keras.models.load_model('/content/fruit_model.h5')"
      ]
    },
    {
      "cell_type": "code",
      "execution_count": 3,
      "id": "23caffbb",
      "metadata": {
        "id": "23caffbb"
      },
      "outputs": [],
      "source": [
        "FRUIT_TEST_CLASS_NAMES = ['Apple___Black_rot','Apple___healthy','Corn_(maize)___healthy','Corn_(maize)___Northern_Leaf_Blight','Peach___Bacterial_spot','Peach___healthy']"
      ]
    },
    {
      "cell_type": "code",
      "execution_count": 8,
      "id": "461f5752",
      "metadata": {
        "colab": {
          "base_uri": "https://localhost:8080/"
        },
        "id": "461f5752",
        "outputId": "93ac3cc9-3b96-437f-dd1a-6b7417d8ea57"
      },
      "outputs": [
        {
          "output_type": "stream",
          "name": "stdout",
          "text": [
            "1/1 [==============================] - 0s 18ms/step\n",
            "The image is a apple___black_rot\n"
          ]
        }
      ],
      "source": [
        "image_pred = process_image('/content/blackrot.JPG')\n",
        "prediction = np.argmax(model.predict(image_pred),axis=1)\n",
        "\n",
        "print((\"The image is a \" + str(FRUIT_TEST_CLASS_NAMES[prediction[0]])).capitalize())"
      ]
    },
    {
      "cell_type": "markdown",
      "source": [
        "## **Vegetable Model Testing**"
      ],
      "metadata": {
        "id": "YYGLaWkZxIrg"
      },
      "id": "YYGLaWkZxIrg"
    },
    {
      "cell_type": "code",
      "source": [
        "model_veg = tf.keras.models.load_model('/content/vegetable_model.h5')"
      ],
      "metadata": {
        "id": "kwPDAYAHxNs3"
      },
      "id": "kwPDAYAHxNs3",
      "execution_count": 10,
      "outputs": []
    },
    {
      "cell_type": "code",
      "source": [
        "VEG_TEST_CLASS_NAMES = ['Pepper,_bell___Bacterial_spot','Pepper,_bell___healthy','Potato___Early_blight','Potato___healthy','Potato___Late_blight','Tomato___Bacterial_spot','Tomato___Late_blight','Tomato___Leaf_Mold','Tomato___Septoria_leaf_spot']"
      ],
      "metadata": {
        "id": "Cb1bPn2ZxWE3"
      },
      "id": "Cb1bPn2ZxWE3",
      "execution_count": 11,
      "outputs": []
    },
    {
      "cell_type": "code",
      "execution_count": 12,
      "metadata": {
        "colab": {
          "base_uri": "https://localhost:8080/"
        },
        "outputId": "a00b0996-a189-4d7b-837f-26c9568577fd",
        "id": "_PKbCANiyU9Y"
      },
      "outputs": [
        {
          "output_type": "stream",
          "name": "stdout",
          "text": [
            "1/1 [==============================] - 0s 16ms/step\n",
            "The image is a potato___late_blight\n"
          ]
        }
      ],
      "source": [
        "image_pred = process_image('/content/lateblight.JPG')\n",
        "prediction = np.argmax(model.predict(image_pred),axis=1)\n",
        "\n",
        "print((\"The image is a \" + str(VEG_TEST_CLASS_NAMES[prediction[0]])).capitalize())"
      ],
      "id": "_PKbCANiyU9Y"
    }
  ],
  "metadata": {
    "kernelspec": {
      "display_name": "Python 3 (ipykernel)",
      "language": "python",
      "name": "python3"
    },
    "language_info": {
      "codemirror_mode": {
        "name": "ipython",
        "version": 3
      },
      "file_extension": ".py",
      "mimetype": "text/x-python",
      "name": "python",
      "nbconvert_exporter": "python",
      "pygments_lexer": "ipython3",
      "version": "3.9.13"
    },
    "colab": {
      "provenance": []
    },
    "accelerator": "GPU",
    "gpuClass": "standard"
  },
  "nbformat": 4,
  "nbformat_minor": 5
}