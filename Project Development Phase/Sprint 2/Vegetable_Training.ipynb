{
  "cells": [
    {
      "cell_type": "markdown",
      "source": [
        "## **Vegetable Modelling**"
      ],
      "metadata": {
        "id": "6uvXcjsKmve_"
      },
      "id": "6uvXcjsKmve_"
    },
    {
      "cell_type": "markdown",
      "source": [
        "**IMPORT NECESSARY PACKAGES**"
      ],
      "metadata": {
        "id": "Arl2pJQim1C1"
      },
      "id": "Arl2pJQim1C1"
    },
    {
      "cell_type": "code",
      "execution_count": 1,
      "id": "66fae69f",
      "metadata": {
        "id": "66fae69f"
      },
      "outputs": [],
      "source": [
        "from tensorflow import keras"
      ]
    },
    {
      "cell_type": "code",
      "execution_count": 2,
      "id": "0742bfb5",
      "metadata": {
        "id": "0742bfb5"
      },
      "outputs": [],
      "source": [
        "import os\n",
        "import cv2\n",
        "import numpy as np\n",
        "import tensorflow as tf"
      ]
    },
    {
      "cell_type": "code",
      "execution_count": 3,
      "id": "209ed642",
      "metadata": {
        "id": "209ed642"
      },
      "outputs": [],
      "source": [
        "categories = ['Pepper,_bell___Bacterial_spot','Pepper,_bell___healthy','Potato___Early_blight','Potato___healthy','Potato___Late_blight','Tomato___Bacterial_spot','Tomato___Late_blight','Tomato___Leaf_Mold','Tomato___Septoria_leaf_spot']"
      ]
    },
    {
      "cell_type": "markdown",
      "source": [
        "**UPLOAD DATASET**"
      ],
      "metadata": {
        "id": "Jmy2n6xKm41N"
      },
      "id": "Jmy2n6xKm41N"
    },
    {
      "cell_type": "code",
      "source": [
        "from google.colab import drive\n",
        "drive.mount('/content/drive')"
      ],
      "metadata": {
        "colab": {
          "base_uri": "https://localhost:8080/"
        },
        "id": "CXnWvKaGl8Pf",
        "outputId": "361e75c4-1ceb-4839-950b-0be8d0081fa0"
      },
      "id": "CXnWvKaGl8Pf",
      "execution_count": 4,
      "outputs": [
        {
          "output_type": "stream",
          "name": "stdout",
          "text": [
            "Mounted at /content/drive\n"
          ]
        }
      ]
    },
    {
      "cell_type": "code",
      "source": [
        "import zipfile\n",
        "zip_ref = zipfile.ZipFile(\"/content/drive/MyDrive/NalaiyaThiran/Dataset/Veg-dataset.zip\")\n",
        "zip_ref.extractall()\n",
        "zip_ref.close()"
      ],
      "metadata": {
        "id": "59FEGC0bmAwW"
      },
      "id": "59FEGC0bmAwW",
      "execution_count": 5,
      "outputs": []
    },
    {
      "cell_type": "code",
      "execution_count": 6,
      "id": "755becde",
      "metadata": {
        "id": "755becde"
      },
      "outputs": [],
      "source": [
        "data_dir = '/content/Veg-dataset/train_set'"
      ]
    },
    {
      "cell_type": "code",
      "execution_count": 7,
      "id": "a22ded3c",
      "metadata": {
        "id": "a22ded3c"
      },
      "outputs": [],
      "source": [
        "data = []"
      ]
    },
    {
      "cell_type": "code",
      "execution_count": 8,
      "id": "5de235a2",
      "metadata": {
        "id": "5de235a2"
      },
      "outputs": [],
      "source": [
        "img_size = 100\n",
        "def make_data():\n",
        "    for category in categories:\n",
        "        path = os.path.join(data_dir, category)\n",
        "        label = categories.index(category)\n",
        "        for img_name in os.listdir(path):\n",
        "            image_path = os.path.join(path, img_name)\n",
        "            image = cv2.imread(image_path)\n",
        "            try:\n",
        "                image = cv2.cvtColor(image, cv2.COLOR_BGR2RGB)\n",
        "                image = cv2.resize(image,(img_size,img_size))\n",
        "                image = np.array(image, dtype=np.float32)\n",
        "                data.append([image,label])\n",
        "            except Exception as e:\n",
        "                pass  \n",
        "            \n",
        "make_data() "
      ]
    },
    {
      "cell_type": "code",
      "execution_count": 9,
      "id": "6d154cc4",
      "metadata": {
        "colab": {
          "base_uri": "https://localhost:8080/"
        },
        "id": "6d154cc4",
        "outputId": "fd5856bf-2695-4f8d-b60b-83b428ddd578"
      },
      "outputs": [
        {
          "output_type": "execute_result",
          "data": {
            "text/plain": [
              "11386"
            ]
          },
          "metadata": {},
          "execution_count": 9
        }
      ],
      "source": [
        "len(data)"
      ]
    },
    {
      "cell_type": "code",
      "execution_count": 10,
      "id": "9293a489",
      "metadata": {
        "id": "9293a489"
      },
      "outputs": [],
      "source": [
        "np.random.shuffle(data)"
      ]
    },
    {
      "cell_type": "code",
      "execution_count": 11,
      "id": "92418b3e",
      "metadata": {
        "id": "92418b3e"
      },
      "outputs": [],
      "source": [
        "features = []\n",
        "labels = []\n",
        "for img,label in data:\n",
        "    features.append(img)\n",
        "    labels.append(label)"
      ]
    },
    {
      "cell_type": "code",
      "execution_count": 12,
      "id": "737dfdf1",
      "metadata": {
        "id": "737dfdf1"
      },
      "outputs": [],
      "source": [
        "features = np.array(features, dtype = np.float32)\n",
        "labels = np.array(labels)\n",
        "features = features/255.0"
      ]
    },
    {
      "cell_type": "markdown",
      "source": [
        "**ADD LAYERS**"
      ],
      "metadata": {
        "id": "IkaBNw-Mm8ih"
      },
      "id": "IkaBNw-Mm8ih"
    },
    {
      "cell_type": "code",
      "execution_count": 13,
      "id": "55111e6c",
      "metadata": {
        "id": "55111e6c"
      },
      "outputs": [],
      "source": [
        "input_layer = tf.keras.layers.Input([100,100,3])"
      ]
    },
    {
      "cell_type": "code",
      "execution_count": 14,
      "id": "a09da28b",
      "metadata": {
        "id": "a09da28b"
      },
      "outputs": [],
      "source": [
        "conv1 = tf.keras.layers.Conv2D(filters = 64, kernel_size = (5,5), padding = 'Same', activation = 'relu')(input_layer)"
      ]
    },
    {
      "cell_type": "code",
      "execution_count": 15,
      "id": "6d38b402",
      "metadata": {
        "id": "6d38b402"
      },
      "outputs": [],
      "source": [
        "pool1 = tf.keras.layers.MaxPooling2D(pool_size = (2,2))(conv1)"
      ]
    },
    {
      "cell_type": "code",
      "execution_count": 16,
      "id": "a13dc609",
      "metadata": {
        "id": "a13dc609"
      },
      "outputs": [],
      "source": [
        "conv2 = tf.keras.layers.Conv2D(filters = 64, kernel_size = (3,3), padding = 'Same', activation = 'relu')(pool1)"
      ]
    },
    {
      "cell_type": "code",
      "execution_count": 17,
      "id": "063b994a",
      "metadata": {
        "id": "063b994a"
      },
      "outputs": [],
      "source": [
        "pool2 = tf.keras.layers.MaxPooling2D(pool_size = (2,2), strides = (2,2))(conv2)"
      ]
    },
    {
      "cell_type": "code",
      "execution_count": 18,
      "id": "07bfcc44",
      "metadata": {
        "id": "07bfcc44"
      },
      "outputs": [],
      "source": [
        "conv3 = tf.keras.layers.Conv2D(filters = 96, kernel_size = (3,3), padding = 'Same', activation = 'relu')(pool2)"
      ]
    },
    {
      "cell_type": "code",
      "execution_count": 19,
      "id": "1ea5c54d",
      "metadata": {
        "id": "1ea5c54d"
      },
      "outputs": [],
      "source": [
        "pool3 = tf.keras.layers.MaxPooling2D(pool_size = (2,2), strides = (2,2))(conv3)"
      ]
    },
    {
      "cell_type": "code",
      "execution_count": 20,
      "id": "b70f073b",
      "metadata": {
        "id": "b70f073b"
      },
      "outputs": [],
      "source": [
        "conv4 = tf.keras.layers.Conv2D(filters = 96, kernel_size = (3,3), padding = 'Same', activation = 'relu')(pool3)"
      ]
    },
    {
      "cell_type": "code",
      "execution_count": 21,
      "id": "9bb798fb",
      "metadata": {
        "id": "9bb798fb"
      },
      "outputs": [],
      "source": [
        "pool4 = tf.keras.layers.MaxPooling2D(pool_size = (2,2), strides = (2,2))(conv4)"
      ]
    },
    {
      "cell_type": "code",
      "execution_count": 22,
      "id": "e61da430",
      "metadata": {
        "id": "e61da430"
      },
      "outputs": [],
      "source": [
        "flt1 = tf.keras.layers.Flatten()(pool4)"
      ]
    },
    {
      "cell_type": "code",
      "execution_count": 23,
      "id": "7c4e104b",
      "metadata": {
        "id": "7c4e104b"
      },
      "outputs": [],
      "source": [
        "dn1 = tf.keras.layers.Dense(256,activation = 'relu')(flt1)"
      ]
    },
    {
      "cell_type": "code",
      "execution_count": 24,
      "id": "f0accafa",
      "metadata": {
        "id": "f0accafa"
      },
      "outputs": [],
      "source": [
        "dn2 = tf.keras.layers.Dense(124,activation = 'relu')(dn1)"
      ]
    },
    {
      "cell_type": "code",
      "execution_count": 25,
      "id": "9e81ae67",
      "metadata": {
        "id": "9e81ae67"
      },
      "outputs": [],
      "source": [
        "out = tf.keras.layers.Dense(10,activation = 'softmax')(dn1)"
      ]
    },
    {
      "cell_type": "markdown",
      "source": [
        "**MODELING**"
      ],
      "metadata": {
        "id": "CThtxBNhnC3j"
      },
      "id": "CThtxBNhnC3j"
    },
    {
      "cell_type": "code",
      "execution_count": 26,
      "id": "efcf3c83",
      "metadata": {
        "id": "efcf3c83"
      },
      "outputs": [],
      "source": [
        "model = tf.keras.Model(input_layer, out)"
      ]
    },
    {
      "cell_type": "code",
      "execution_count": 27,
      "id": "e5094b38",
      "metadata": {
        "id": "e5094b38"
      },
      "outputs": [],
      "source": [
        "model.compile(optimizer = 'adam', loss = 'sparse_categorical_crossentropy', metrics = ['accuracy'])"
      ]
    },
    {
      "cell_type": "code",
      "source": [
        "model.summary()"
      ],
      "metadata": {
        "colab": {
          "base_uri": "https://localhost:8080/"
        },
        "id": "Y-gSO7EInBov",
        "outputId": "fc596364-28c2-48c1-b1fc-f03a87834599"
      },
      "id": "Y-gSO7EInBov",
      "execution_count": 29,
      "outputs": [
        {
          "output_type": "stream",
          "name": "stdout",
          "text": [
            "Model: \"model\"\n",
            "_________________________________________________________________\n",
            " Layer (type)                Output Shape              Param #   \n",
            "=================================================================\n",
            " input_1 (InputLayer)        [(None, 100, 100, 3)]     0         \n",
            "                                                                 \n",
            " conv2d (Conv2D)             (None, 100, 100, 64)      4864      \n",
            "                                                                 \n",
            " max_pooling2d (MaxPooling2D  (None, 50, 50, 64)       0         \n",
            " )                                                               \n",
            "                                                                 \n",
            " conv2d_1 (Conv2D)           (None, 50, 50, 64)        36928     \n",
            "                                                                 \n",
            " max_pooling2d_1 (MaxPooling  (None, 25, 25, 64)       0         \n",
            " 2D)                                                             \n",
            "                                                                 \n",
            " conv2d_2 (Conv2D)           (None, 25, 25, 96)        55392     \n",
            "                                                                 \n",
            " max_pooling2d_2 (MaxPooling  (None, 12, 12, 96)       0         \n",
            " 2D)                                                             \n",
            "                                                                 \n",
            " conv2d_3 (Conv2D)           (None, 12, 12, 96)        83040     \n",
            "                                                                 \n",
            " max_pooling2d_3 (MaxPooling  (None, 6, 6, 96)         0         \n",
            " 2D)                                                             \n",
            "                                                                 \n",
            " flatten (Flatten)           (None, 3456)              0         \n",
            "                                                                 \n",
            " dense (Dense)               (None, 256)               884992    \n",
            "                                                                 \n",
            " dense_2 (Dense)             (None, 10)                2570      \n",
            "                                                                 \n",
            "=================================================================\n",
            "Total params: 1,067,786\n",
            "Trainable params: 1,067,786\n",
            "Non-trainable params: 0\n",
            "_________________________________________________________________\n"
          ]
        }
      ]
    },
    {
      "cell_type": "markdown",
      "source": [
        "**FIT THE MODEL**"
      ],
      "metadata": {
        "id": "J75O4TApoP5L"
      },
      "id": "J75O4TApoP5L"
    },
    {
      "cell_type": "code",
      "execution_count": 28,
      "id": "3891f1f7",
      "metadata": {
        "colab": {
          "base_uri": "https://localhost:8080/"
        },
        "id": "3891f1f7",
        "outputId": "3d222e33-26ae-4775-bd12-253eb1d49181"
      },
      "outputs": [
        {
          "output_type": "stream",
          "name": "stdout",
          "text": [
            "Epoch 1/15\n",
            "57/57 [==============================] - 17s 127ms/step - loss: 1.6923 - accuracy: 0.3979\n",
            "Epoch 2/15\n",
            "57/57 [==============================] - 6s 109ms/step - loss: 0.9599 - accuracy: 0.6641\n",
            "Epoch 3/15\n",
            "57/57 [==============================] - 6s 111ms/step - loss: 0.6205 - accuracy: 0.7840\n",
            "Epoch 4/15\n",
            "57/57 [==============================] - 6s 110ms/step - loss: 0.4164 - accuracy: 0.8529\n",
            "Epoch 5/15\n",
            "57/57 [==============================] - 6s 111ms/step - loss: 0.3102 - accuracy: 0.8938\n",
            "Epoch 6/15\n",
            "57/57 [==============================] - 6s 111ms/step - loss: 0.2676 - accuracy: 0.9063\n",
            "Epoch 7/15\n",
            "57/57 [==============================] - 6s 111ms/step - loss: 0.1993 - accuracy: 0.9342\n",
            "Epoch 8/15\n",
            "57/57 [==============================] - 6s 111ms/step - loss: 0.1516 - accuracy: 0.9470\n",
            "Epoch 9/15\n",
            "57/57 [==============================] - 6s 112ms/step - loss: 0.1576 - accuracy: 0.9448\n",
            "Epoch 10/15\n",
            "57/57 [==============================] - 6s 111ms/step - loss: 0.1207 - accuracy: 0.9580\n",
            "Epoch 11/15\n",
            "57/57 [==============================] - 6s 113ms/step - loss: 0.0957 - accuracy: 0.9665\n",
            "Epoch 12/15\n",
            "57/57 [==============================] - 6s 112ms/step - loss: 0.0581 - accuracy: 0.9801\n",
            "Epoch 13/15\n",
            "57/57 [==============================] - 6s 112ms/step - loss: 0.0471 - accuracy: 0.9840\n",
            "Epoch 14/15\n",
            "57/57 [==============================] - 6s 113ms/step - loss: 0.0616 - accuracy: 0.9774\n",
            "Epoch 15/15\n",
            "57/57 [==============================] - 6s 113ms/step - loss: 0.0395 - accuracy: 0.9864\n"
          ]
        },
        {
          "output_type": "execute_result",
          "data": {
            "text/plain": [
              "<keras.callbacks.History at 0x7f43d02e1a90>"
            ]
          },
          "metadata": {},
          "execution_count": 28
        }
      ],
      "source": [
        "model.fit(features, labels, batch_size = 200, epochs = 15)"
      ]
    },
    {
      "cell_type": "markdown",
      "source": [
        "**SAVE THE MODEL**"
      ],
      "metadata": {
        "id": "vaPiMk29oTGT"
      },
      "id": "vaPiMk29oTGT"
    },
    {
      "cell_type": "code",
      "execution_count": 30,
      "id": "d4e76ae0",
      "metadata": {
        "id": "d4e76ae0"
      },
      "outputs": [],
      "source": [
        "model.save('vegetable_model.h5')"
      ]
    },
    {
      "cell_type": "code",
      "execution_count": 32,
      "id": "7be6bf8f",
      "metadata": {
        "id": "7be6bf8f"
      },
      "outputs": [],
      "source": [
        "data_dir = '/content/Veg-dataset/test_set'"
      ]
    },
    {
      "cell_type": "code",
      "execution_count": 33,
      "id": "bbf7d89e",
      "metadata": {
        "id": "bbf7d89e"
      },
      "outputs": [],
      "source": [
        "testdata = []"
      ]
    },
    {
      "cell_type": "code",
      "execution_count": 34,
      "id": "af618aea",
      "metadata": {
        "id": "af618aea"
      },
      "outputs": [],
      "source": [
        "img_size = 100\n",
        "def make_data():\n",
        "    for category in categories:\n",
        "        path = os.path.join(data_dir, category)\n",
        "        label = categories.index(category)\n",
        "        for img_name in os.listdir(path):\n",
        "            image_path = os.path.join(path, img_name)\n",
        "            image = cv2.imread(image_path)\n",
        "            try:\n",
        "                image = cv2.cvtColor(image, cv2.COLOR_BGR2RGB)\n",
        "                image = cv2.resize(image,(img_size,img_size))\n",
        "                image = np.array(image, dtype=np.float32)\n",
        "                testdata.append([image,label])\n",
        "            except Exception as e:\n",
        "                pass  \n",
        "            \n",
        "make_data() "
      ]
    },
    {
      "cell_type": "code",
      "execution_count": 35,
      "id": "2ce2ff37",
      "metadata": {
        "id": "2ce2ff37"
      },
      "outputs": [],
      "source": [
        "np.random.shuffle(testdata)"
      ]
    },
    {
      "cell_type": "code",
      "execution_count": 36,
      "id": "12ec4101",
      "metadata": {
        "id": "12ec4101"
      },
      "outputs": [],
      "source": [
        "tfeatures = []\n",
        "tlabels = []\n",
        "for img,label in testdata:\n",
        "    tfeatures.append(img)\n",
        "    tlabels.append(label)"
      ]
    },
    {
      "cell_type": "code",
      "execution_count": 37,
      "id": "9f12ef39",
      "metadata": {
        "id": "9f12ef39"
      },
      "outputs": [],
      "source": [
        "tfeatures = np.array(tfeatures, dtype = np.float32)\n",
        "tlabels = np.array(tlabels)\n",
        "tfeatures = tfeatures/255.0"
      ]
    },
    {
      "cell_type": "code",
      "execution_count": 38,
      "id": "d688fc19",
      "metadata": {
        "id": "d688fc19"
      },
      "outputs": [],
      "source": [
        "model = tf.keras.models.load_model('/content/vegetable_model.h5')"
      ]
    },
    {
      "cell_type": "markdown",
      "source": [
        "**EVALUATE THE MODEL**"
      ],
      "metadata": {
        "id": "Y32JNdXGotp0"
      },
      "id": "Y32JNdXGotp0"
    },
    {
      "cell_type": "code",
      "execution_count": 39,
      "id": "f60e07d8",
      "metadata": {
        "colab": {
          "base_uri": "https://localhost:8080/"
        },
        "id": "f60e07d8",
        "outputId": "c85d6f1b-9fdc-49e1-effb-2d5f2167e854"
      },
      "outputs": [
        {
          "output_type": "stream",
          "name": "stdout",
          "text": [
            "107/107 [==============================] - 1s 10ms/step - loss: 0.0564 - accuracy: 0.9792\n"
          ]
        },
        {
          "output_type": "execute_result",
          "data": {
            "text/plain": [
              "[0.056364625692367554, 0.9792154431343079]"
            ]
          },
          "metadata": {},
          "execution_count": 39
        }
      ],
      "source": [
        "model.evaluate(tfeatures, tlabels, verbose = 1)"
      ]
    },
    {
      "cell_type": "code",
      "execution_count": 40,
      "id": "f28044b1",
      "metadata": {
        "colab": {
          "base_uri": "https://localhost:8080/"
        },
        "id": "f28044b1",
        "outputId": "bbb6ead0-9cce-4c53-94ca-f19e05461e00"
      },
      "outputs": [
        {
          "output_type": "execute_result",
          "data": {
            "text/plain": [
              "3416"
            ]
          },
          "metadata": {},
          "execution_count": 40
        }
      ],
      "source": [
        "len(testdata)"
      ]
    },
    {
      "cell_type": "markdown",
      "source": [
        "**PREDICTING**"
      ],
      "metadata": {
        "id": "jIXf_t2wox3P"
      },
      "id": "jIXf_t2wox3P"
    },
    {
      "cell_type": "code",
      "execution_count": 41,
      "id": "a293e443",
      "metadata": {
        "colab": {
          "base_uri": "https://localhost:8080/"
        },
        "id": "a293e443",
        "outputId": "8b1cb7b5-1ef4-4b5c-9152-e3ae80db7c89"
      },
      "outputs": [
        {
          "output_type": "stream",
          "name": "stdout",
          "text": [
            "107/107 [==============================] - 1s 8ms/step\n",
            "1653 / 1686\n"
          ]
        }
      ],
      "source": [
        "prediction = model.predict(tfeatures)\n",
        "count = 0\n",
        "for i in range(1686):\n",
        "    if categories[tlabels[i]] == categories[np.argmax(prediction[i]) ]:\n",
        "        count+=1\n",
        "print(count,'/',1686)\n",
        "   "
      ]
    },
    {
      "cell_type": "code",
      "execution_count": 42,
      "id": "5fd2d208",
      "metadata": {
        "colab": {
          "base_uri": "https://localhost:8080/"
        },
        "id": "5fd2d208",
        "outputId": "4ffd7e6a-7b95-4c4c-c50d-dbe4342f7166"
      },
      "outputs": [
        {
          "output_type": "stream",
          "name": "stdout",
          "text": [
            "Actual:Potato___Late_blight\n",
            "Predictions:Potato___Late_blight\n",
            "Actual:Tomato___Bacterial_spot\n",
            "Predictions:Tomato___Bacterial_spot\n",
            "Actual:Tomato___Bacterial_spot\n",
            "Predictions:Tomato___Bacterial_spot\n",
            "Actual:Potato___Late_blight\n",
            "Predictions:Potato___Late_blight\n",
            "Actual:Pepper,_bell___healthy\n",
            "Predictions:Pepper,_bell___healthy\n",
            "Actual:Tomato___Late_blight\n",
            "Predictions:Tomato___Late_blight\n",
            "Actual:Pepper,_bell___healthy\n",
            "Predictions:Pepper,_bell___healthy\n",
            "Actual:Tomato___Bacterial_spot\n",
            "Predictions:Tomato___Bacterial_spot\n",
            "Actual:Potato___Late_blight\n",
            "Predictions:Potato___Late_blight\n",
            "Actual:Potato___Early_blight\n",
            "Predictions:Potato___Early_blight\n",
            "Actual:Tomato___Leaf_Mold\n",
            "Predictions:Tomato___Leaf_Mold\n",
            "Actual:Tomato___Bacterial_spot\n",
            "Predictions:Tomato___Bacterial_spot\n",
            "Actual:Tomato___Bacterial_spot\n",
            "Predictions:Tomato___Bacterial_spot\n",
            "Actual:Tomato___Septoria_leaf_spot\n",
            "Predictions:Tomato___Septoria_leaf_spot\n",
            "Actual:Tomato___Bacterial_spot\n",
            "Predictions:Tomato___Bacterial_spot\n",
            "Actual:Potato___Early_blight\n",
            "Predictions:Potato___Early_blight\n",
            "Actual:Potato___Early_blight\n",
            "Predictions:Potato___Early_blight\n",
            "Actual:Tomato___Bacterial_spot\n",
            "Predictions:Tomato___Bacterial_spot\n",
            "Actual:Pepper,_bell___healthy\n",
            "Predictions:Pepper,_bell___healthy\n",
            "Actual:Tomato___Bacterial_spot\n",
            "Predictions:Tomato___Bacterial_spot\n",
            "Actual:Tomato___Bacterial_spot\n",
            "Predictions:Tomato___Bacterial_spot\n",
            "Actual:Potato___Early_blight\n",
            "Predictions:Potato___Early_blight\n",
            "Actual:Tomato___Leaf_Mold\n",
            "Predictions:Tomato___Leaf_Mold\n",
            "Actual:Pepper,_bell___Bacterial_spot\n",
            "Predictions:Pepper,_bell___Bacterial_spot\n",
            "Actual:Pepper,_bell___Bacterial_spot\n",
            "Predictions:Pepper,_bell___Bacterial_spot\n",
            "Actual:Tomato___Late_blight\n",
            "Predictions:Tomato___Late_blight\n",
            "Actual:Tomato___Bacterial_spot\n",
            "Predictions:Tomato___Bacterial_spot\n",
            "Actual:Tomato___Bacterial_spot\n",
            "Predictions:Tomato___Bacterial_spot\n",
            "Actual:Tomato___Leaf_Mold\n",
            "Predictions:Tomato___Leaf_Mold\n",
            "Actual:Pepper,_bell___healthy\n",
            "Predictions:Pepper,_bell___healthy\n",
            "Actual:Tomato___Leaf_Mold\n",
            "Predictions:Tomato___Leaf_Mold\n",
            "Actual:Potato___Early_blight\n",
            "Predictions:Potato___Early_blight\n",
            "Actual:Potato___healthy\n",
            "Predictions:Potato___healthy\n",
            "Actual:Potato___Late_blight\n",
            "Predictions:Potato___Late_blight\n",
            "Actual:Tomato___Bacterial_spot\n",
            "Predictions:Tomato___Bacterial_spot\n",
            "Actual:Pepper,_bell___healthy\n",
            "Predictions:Pepper,_bell___healthy\n",
            "Actual:Pepper,_bell___healthy\n",
            "Predictions:Pepper,_bell___healthy\n",
            "Actual:Tomato___Late_blight\n",
            "Predictions:Tomato___Late_blight\n",
            "Actual:Tomato___Septoria_leaf_spot\n",
            "Predictions:Tomato___Septoria_leaf_spot\n",
            "Actual:Tomato___Bacterial_spot\n",
            "Predictions:Tomato___Bacterial_spot\n",
            "Actual:Potato___Late_blight\n",
            "Predictions:Potato___Late_blight\n",
            "Actual:Pepper,_bell___Bacterial_spot\n",
            "Predictions:Pepper,_bell___Bacterial_spot\n",
            "Actual:Pepper,_bell___Bacterial_spot\n",
            "Predictions:Pepper,_bell___Bacterial_spot\n",
            "Actual:Pepper,_bell___healthy\n",
            "Predictions:Pepper,_bell___healthy\n",
            "Actual:Pepper,_bell___healthy\n",
            "Predictions:Pepper,_bell___healthy\n",
            "Actual:Tomato___Septoria_leaf_spot\n",
            "Predictions:Tomato___Septoria_leaf_spot\n",
            "Actual:Tomato___Bacterial_spot\n",
            "Predictions:Tomato___Bacterial_spot\n",
            "Actual:Tomato___Septoria_leaf_spot\n",
            "Predictions:Tomato___Septoria_leaf_spot\n",
            "Actual:Potato___Late_blight\n",
            "Predictions:Potato___Late_blight\n",
            "Actual:Tomato___Late_blight\n",
            "Predictions:Tomato___Late_blight\n",
            "Actual:Tomato___Septoria_leaf_spot\n",
            "Predictions:Tomato___Septoria_leaf_spot\n",
            "Actual:Potato___Early_blight\n",
            "Predictions:Potato___Early_blight\n",
            "Actual:Tomato___Bacterial_spot\n",
            "Predictions:Tomato___Bacterial_spot\n",
            "Actual:Potato___Late_blight\n",
            "Predictions:Potato___Late_blight\n",
            "Actual:Tomato___Late_blight\n",
            "Predictions:Tomato___Late_blight\n",
            "Actual:Pepper,_bell___Bacterial_spot\n",
            "Predictions:Pepper,_bell___Bacterial_spot\n",
            "Actual:Potato___Late_blight\n",
            "Predictions:Potato___Late_blight\n",
            "Actual:Pepper,_bell___Bacterial_spot\n",
            "Predictions:Pepper,_bell___Bacterial_spot\n",
            "Actual:Pepper,_bell___Bacterial_spot\n",
            "Predictions:Pepper,_bell___Bacterial_spot\n",
            "Actual:Tomato___Bacterial_spot\n",
            "Predictions:Tomato___Bacterial_spot\n",
            "Actual:Tomato___Leaf_Mold\n",
            "Predictions:Tomato___Leaf_Mold\n",
            "Actual:Potato___Early_blight\n",
            "Predictions:Potato___Early_blight\n",
            "Actual:Tomato___Late_blight\n",
            "Predictions:Tomato___Late_blight\n",
            "Actual:Potato___healthy\n",
            "Predictions:Potato___healthy\n",
            "Actual:Pepper,_bell___healthy\n",
            "Predictions:Pepper,_bell___healthy\n",
            "Actual:Tomato___Late_blight\n",
            "Predictions:Tomato___Late_blight\n",
            "Actual:Tomato___Leaf_Mold\n",
            "Predictions:Tomato___Leaf_Mold\n",
            "Actual:Tomato___Bacterial_spot\n",
            "Predictions:Tomato___Bacterial_spot\n",
            "Actual:Tomato___Bacterial_spot\n",
            "Predictions:Tomato___Bacterial_spot\n",
            "Actual:Tomato___Septoria_leaf_spot\n",
            "Predictions:Tomato___Septoria_leaf_spot\n",
            "Actual:Tomato___Leaf_Mold\n",
            "Predictions:Tomato___Leaf_Mold\n",
            "Actual:Tomato___Bacterial_spot\n",
            "Predictions:Tomato___Bacterial_spot\n",
            "Actual:Tomato___Bacterial_spot\n",
            "Predictions:Tomato___Bacterial_spot\n",
            "Actual:Tomato___Late_blight\n",
            "Predictions:Tomato___Late_blight\n",
            "Actual:Tomato___Bacterial_spot\n",
            "Predictions:Tomato___Bacterial_spot\n",
            "Actual:Potato___Early_blight\n",
            "Predictions:Potato___Early_blight\n",
            "Actual:Tomato___Late_blight\n",
            "Predictions:Tomato___Late_blight\n",
            "Actual:Pepper,_bell___healthy\n",
            "Predictions:Pepper,_bell___healthy\n",
            "Actual:Tomato___Late_blight\n",
            "Predictions:Tomato___Late_blight\n",
            "Actual:Pepper,_bell___healthy\n",
            "Predictions:Pepper,_bell___healthy\n",
            "Actual:Tomato___Late_blight\n",
            "Predictions:Potato___Late_blight\n",
            "Actual:Tomato___Leaf_Mold\n",
            "Predictions:Tomato___Leaf_Mold\n",
            "Actual:Tomato___Late_blight\n",
            "Predictions:Tomato___Late_blight\n",
            "Actual:Tomato___Septoria_leaf_spot\n",
            "Predictions:Tomato___Septoria_leaf_spot\n",
            "Actual:Tomato___Septoria_leaf_spot\n",
            "Predictions:Tomato___Septoria_leaf_spot\n",
            "Actual:Tomato___Septoria_leaf_spot\n",
            "Predictions:Tomato___Septoria_leaf_spot\n",
            "Actual:Tomato___Late_blight\n",
            "Predictions:Tomato___Late_blight\n",
            "Actual:Tomato___Septoria_leaf_spot\n",
            "Predictions:Tomato___Septoria_leaf_spot\n",
            "Actual:Potato___Early_blight\n",
            "Predictions:Potato___Early_blight\n",
            "Actual:Tomato___Late_blight\n",
            "Predictions:Tomato___Late_blight\n",
            "Actual:Pepper,_bell___Bacterial_spot\n",
            "Predictions:Pepper,_bell___Bacterial_spot\n",
            "Actual:Tomato___Bacterial_spot\n",
            "Predictions:Tomato___Bacterial_spot\n",
            "Actual:Tomato___Septoria_leaf_spot\n",
            "Predictions:Tomato___Septoria_leaf_spot\n",
            "Actual:Tomato___Septoria_leaf_spot\n",
            "Predictions:Tomato___Septoria_leaf_spot\n",
            "Actual:Potato___Early_blight\n",
            "Predictions:Potato___Early_blight\n",
            "Actual:Tomato___Bacterial_spot\n",
            "Predictions:Tomato___Bacterial_spot\n",
            "Actual:Tomato___Bacterial_spot\n",
            "Predictions:Tomato___Bacterial_spot\n",
            "Actual:Tomato___Bacterial_spot\n",
            "Predictions:Tomato___Bacterial_spot\n",
            "Actual:Tomato___Septoria_leaf_spot\n",
            "Predictions:Tomato___Septoria_leaf_spot\n",
            "Actual:Potato___Late_blight\n",
            "Predictions:Potato___Late_blight\n",
            "Actual:Potato___Early_blight\n",
            "Predictions:Potato___Early_blight\n",
            "Actual:Tomato___Late_blight\n",
            "Predictions:Tomato___Late_blight\n",
            "Actual:Tomato___Bacterial_spot\n",
            "Predictions:Tomato___Bacterial_spot\n",
            "Actual:Pepper,_bell___healthy\n",
            "Predictions:Pepper,_bell___healthy\n",
            "Actual:Potato___Early_blight\n",
            "Predictions:Potato___Early_blight\n",
            "Actual:Potato___Early_blight\n",
            "Predictions:Potato___Early_blight\n",
            "Actual:Potato___healthy\n",
            "Predictions:Potato___healthy\n",
            "Actual:Tomato___Bacterial_spot\n",
            "Predictions:Tomato___Bacterial_spot\n",
            "Actual:Tomato___Bacterial_spot\n",
            "Predictions:Tomato___Bacterial_spot\n",
            "Actual:Pepper,_bell___healthy\n",
            "Predictions:Pepper,_bell___healthy\n",
            "Actual:Tomato___Bacterial_spot\n",
            "Predictions:Tomato___Bacterial_spot\n",
            "Actual:Potato___Late_blight\n",
            "Predictions:Potato___Late_blight\n",
            "Actual:Pepper,_bell___Bacterial_spot\n",
            "Predictions:Pepper,_bell___Bacterial_spot\n",
            "Actual:Tomato___Bacterial_spot\n",
            "Predictions:Tomato___Bacterial_spot\n",
            "Actual:Tomato___Septoria_leaf_spot\n",
            "Predictions:Tomato___Septoria_leaf_spot\n",
            "Actual:Tomato___Late_blight\n",
            "Predictions:Tomato___Late_blight\n",
            "Actual:Pepper,_bell___healthy\n",
            "Predictions:Pepper,_bell___healthy\n",
            "Actual:Tomato___Septoria_leaf_spot\n",
            "Predictions:Tomato___Septoria_leaf_spot\n",
            "Actual:Pepper,_bell___healthy\n",
            "Predictions:Pepper,_bell___healthy\n",
            "Actual:Potato___Early_blight\n",
            "Predictions:Potato___Early_blight\n",
            "Actual:Tomato___Septoria_leaf_spot\n",
            "Predictions:Tomato___Septoria_leaf_spot\n",
            "Actual:Potato___Late_blight\n",
            "Predictions:Potato___Late_blight\n",
            "Actual:Tomato___Late_blight\n",
            "Predictions:Tomato___Late_blight\n",
            "Actual:Tomato___Bacterial_spot\n",
            "Predictions:Tomato___Bacterial_spot\n",
            "Actual:Pepper,_bell___Bacterial_spot\n",
            "Predictions:Pepper,_bell___Bacterial_spot\n",
            "Actual:Tomato___Leaf_Mold\n",
            "Predictions:Tomato___Leaf_Mold\n",
            "Actual:Pepper,_bell___healthy\n",
            "Predictions:Pepper,_bell___healthy\n",
            "Actual:Tomato___Leaf_Mold\n",
            "Predictions:Tomato___Leaf_Mold\n",
            "Actual:Tomato___Septoria_leaf_spot\n",
            "Predictions:Tomato___Septoria_leaf_spot\n",
            "Actual:Tomato___Septoria_leaf_spot\n",
            "Predictions:Tomato___Septoria_leaf_spot\n",
            "Actual:Tomato___Septoria_leaf_spot\n",
            "Predictions:Tomato___Septoria_leaf_spot\n",
            "Actual:Tomato___Leaf_Mold\n",
            "Predictions:Tomato___Leaf_Mold\n",
            "Actual:Potato___Late_blight\n",
            "Predictions:Potato___Late_blight\n",
            "Actual:Pepper,_bell___healthy\n",
            "Predictions:Pepper,_bell___healthy\n",
            "Actual:Pepper,_bell___healthy\n",
            "Predictions:Pepper,_bell___healthy\n",
            "Actual:Tomato___Late_blight\n",
            "Predictions:Tomato___Late_blight\n",
            "Actual:Potato___Early_blight\n",
            "Predictions:Potato___Early_blight\n",
            "Actual:Tomato___Bacterial_spot\n",
            "Predictions:Tomato___Bacterial_spot\n",
            "Actual:Tomato___Septoria_leaf_spot\n",
            "Predictions:Tomato___Septoria_leaf_spot\n",
            "Actual:Pepper,_bell___healthy\n",
            "Predictions:Pepper,_bell___healthy\n",
            "Actual:Potato___Early_blight\n",
            "Predictions:Potato___Early_blight\n",
            "Actual:Pepper,_bell___Bacterial_spot\n",
            "Predictions:Potato___Late_blight\n",
            "Actual:Potato___Early_blight\n",
            "Predictions:Potato___Late_blight\n",
            "Actual:Tomato___Septoria_leaf_spot\n",
            "Predictions:Tomato___Septoria_leaf_spot\n",
            "Actual:Pepper,_bell___Bacterial_spot\n",
            "Predictions:Pepper,_bell___Bacterial_spot\n",
            "Actual:Potato___Early_blight\n",
            "Predictions:Potato___Early_blight\n"
          ]
        }
      ],
      "source": [
        "for i in range(146):\n",
        "    print('Actual:' + categories[tlabels[i]] + '\\n' + 'Predictions:' + categories[np.argmax(prediction[i])])"
      ]
    },
    {
      "cell_type": "code",
      "execution_count": 43,
      "id": "bb6d67d5",
      "metadata": {
        "colab": {
          "base_uri": "https://localhost:8080/"
        },
        "id": "bb6d67d5",
        "outputId": "4a0578b6-7b19-4738-be34-ff6525396c3a"
      },
      "outputs": [
        {
          "output_type": "stream",
          "name": "stdout",
          "text": [
            "1653 /1686\n",
            "98.04270462633453 %\n"
          ]
        }
      ],
      "source": [
        "hi = 0\n",
        "for i in range(1686):\n",
        "    if categories[tlabels[i]] == categories[np.argmax(prediction[i])]:\n",
        "        hi = hi + 1\n",
        "print(hi,'/' + '1686')\n",
        "print(hi*100/1686,'%')"
      ]
    }
  ],
  "metadata": {
    "kernelspec": {
      "display_name": "Python 3 (ipykernel)",
      "language": "python",
      "name": "python3"
    },
    "language_info": {
      "codemirror_mode": {
        "name": "ipython",
        "version": 3
      },
      "file_extension": ".py",
      "mimetype": "text/x-python",
      "name": "python",
      "nbconvert_exporter": "python",
      "pygments_lexer": "ipython3",
      "version": "3.9.13"
    },
    "colab": {
      "provenance": []
    },
    "accelerator": "GPU",
    "gpuClass": "standard"
  },
  "nbformat": 4,
  "nbformat_minor": 5
}