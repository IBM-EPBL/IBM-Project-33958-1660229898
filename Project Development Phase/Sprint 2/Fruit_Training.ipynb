{
  "cells": [
    {
      "cell_type": "markdown",
      "source": [
        "## **Fruit Modeling**"
      ],
      "metadata": {
        "id": "4vuwC-Zqk1pX"
      },
      "id": "4vuwC-Zqk1pX"
    },
    {
      "cell_type": "markdown",
      "source": [
        "**IMPORTING NECESSARY PACKAGES**"
      ],
      "metadata": {
        "id": "iBhw_529YtGx"
      },
      "id": "iBhw_529YtGx"
    },
    {
      "cell_type": "code",
      "execution_count": 3,
      "id": "66fae69f",
      "metadata": {
        "id": "66fae69f"
      },
      "outputs": [],
      "source": [
        "from tensorflow import keras"
      ]
    },
    {
      "cell_type": "code",
      "execution_count": 4,
      "id": "0742bfb5",
      "metadata": {
        "id": "0742bfb5"
      },
      "outputs": [],
      "source": [
        "import os\n",
        "import cv2\n",
        "import numpy as np\n",
        "import tensorflow as tf"
      ]
    },
    {
      "cell_type": "code",
      "execution_count": 5,
      "id": "209ed642",
      "metadata": {
        "id": "209ed642"
      },
      "outputs": [],
      "source": [
        "categories = ['Apple___Black_rot','Apple___healthy','Corn_(maize)___healthy','Corn_(maize)___Northern_Leaf_Blight','Peach___Bacterial_spot','Peach___healthy']"
      ]
    },
    {
      "cell_type": "markdown",
      "source": [
        "**UPLOADING DATASET**"
      ],
      "metadata": {
        "id": "QcQOoKN8fUCO"
      },
      "id": "QcQOoKN8fUCO"
    },
    {
      "cell_type": "code",
      "source": [
        "from google.colab import drive\n",
        "drive.mount('/content/drive')"
      ],
      "metadata": {
        "colab": {
          "base_uri": "https://localhost:8080/"
        },
        "id": "FMhThDiYeRSq",
        "outputId": "93e6e783-1cb7-4d3c-e714-09d8cf82f2b4"
      },
      "id": "FMhThDiYeRSq",
      "execution_count": 6,
      "outputs": [
        {
          "output_type": "stream",
          "name": "stdout",
          "text": [
            "Mounted at /content/drive\n"
          ]
        }
      ]
    },
    {
      "cell_type": "code",
      "source": [
        "import zipfile\n",
        "zip_ref = zipfile.ZipFile(\"/content/drive/MyDrive/NalaiyaThiran/Dataset/fruit-dataset.zip\")\n",
        "zip_ref.extractall()\n",
        "zip_ref.close()"
      ],
      "metadata": {
        "id": "XBvVKtSAeXlC"
      },
      "id": "XBvVKtSAeXlC",
      "execution_count": 7,
      "outputs": []
    },
    {
      "cell_type": "code",
      "execution_count": 8,
      "id": "755becde",
      "metadata": {
        "id": "755becde"
      },
      "outputs": [],
      "source": [
        "data_dir = '/content/fruit-dataset/train'\n"
      ]
    },
    {
      "cell_type": "code",
      "execution_count": 9,
      "id": "a22ded3c",
      "metadata": {
        "id": "a22ded3c"
      },
      "outputs": [],
      "source": [
        "data = []"
      ]
    },
    {
      "cell_type": "code",
      "execution_count": 10,
      "id": "5de235a2",
      "metadata": {
        "id": "5de235a2"
      },
      "outputs": [],
      "source": [
        "img_size = 100\n",
        "def make_data():\n",
        "    for category in categories:\n",
        "        path = os.path.join(data_dir, category)\n",
        "        label = categories.index(category)\n",
        "        for img_name in os.listdir(path):\n",
        "            image_path = os.path.join(path, img_name)\n",
        "            image = cv2.imread(image_path)\n",
        "            try:\n",
        "                image = cv2.cvtColor(image, cv2.COLOR_BGR2RGB)\n",
        "                image = cv2.resize(image,(img_size,img_size))\n",
        "                image = np.array(image, dtype=np.float32)\n",
        "                data.append([image,label])\n",
        "            except Exception as e:\n",
        "                pass  \n",
        "            \n",
        "make_data() "
      ]
    },
    {
      "cell_type": "code",
      "execution_count": 11,
      "id": "6d154cc4",
      "metadata": {
        "colab": {
          "base_uri": "https://localhost:8080/"
        },
        "id": "6d154cc4",
        "outputId": "63999288-f1bb-4c8c-d6e2-4ab33150150c"
      },
      "outputs": [
        {
          "output_type": "execute_result",
          "data": {
            "text/plain": [
              "5384"
            ]
          },
          "metadata": {},
          "execution_count": 11
        }
      ],
      "source": [
        "len(data)"
      ]
    },
    {
      "cell_type": "code",
      "execution_count": 12,
      "id": "9293a489",
      "metadata": {
        "id": "9293a489"
      },
      "outputs": [],
      "source": [
        "np.random.shuffle(data)"
      ]
    },
    {
      "cell_type": "code",
      "execution_count": 13,
      "id": "92418b3e",
      "metadata": {
        "id": "92418b3e"
      },
      "outputs": [],
      "source": [
        "features = []\n",
        "labels = []\n",
        "for img,label in data:\n",
        "    features.append(img)\n",
        "    labels.append(label)"
      ]
    },
    {
      "cell_type": "code",
      "execution_count": 14,
      "id": "737dfdf1",
      "metadata": {
        "id": "737dfdf1"
      },
      "outputs": [],
      "source": [
        "features = np.array(features, dtype = np.float32)\n",
        "labels = np.array(labels)\n",
        "features = features/255.0"
      ]
    },
    {
      "cell_type": "markdown",
      "source": [
        "**ADDING LAYERS**"
      ],
      "metadata": {
        "id": "Lm0v4w4hfacr"
      },
      "id": "Lm0v4w4hfacr"
    },
    {
      "cell_type": "code",
      "execution_count": 15,
      "id": "55111e6c",
      "metadata": {
        "id": "55111e6c"
      },
      "outputs": [],
      "source": [
        "input_layer = tf.keras.layers.Input([100,100,3])"
      ]
    },
    {
      "cell_type": "code",
      "execution_count": 17,
      "id": "a09da28b",
      "metadata": {
        "id": "a09da28b"
      },
      "outputs": [],
      "source": [
        "conv1 = tf.keras.layers.Conv2D(filters = 64, kernel_size = (5,5), padding = 'Same', activation = 'relu')(input_layer)"
      ]
    },
    {
      "cell_type": "code",
      "execution_count": 18,
      "id": "6d38b402",
      "metadata": {
        "id": "6d38b402"
      },
      "outputs": [],
      "source": [
        "pool1 = tf.keras.layers.MaxPooling2D(pool_size = (2,2))(conv1)"
      ]
    },
    {
      "cell_type": "code",
      "execution_count": 19,
      "id": "a13dc609",
      "metadata": {
        "id": "a13dc609"
      },
      "outputs": [],
      "source": [
        "conv2 = tf.keras.layers.Conv2D(filters = 64, kernel_size = (3,3), padding = 'Same', activation = 'relu')(pool1)"
      ]
    },
    {
      "cell_type": "code",
      "execution_count": 20,
      "id": "063b994a",
      "metadata": {
        "id": "063b994a"
      },
      "outputs": [],
      "source": [
        "pool2 = tf.keras.layers.MaxPooling2D(pool_size = (2,2), strides = (2,2))(conv2)"
      ]
    },
    {
      "cell_type": "code",
      "execution_count": 21,
      "id": "07bfcc44",
      "metadata": {
        "id": "07bfcc44"
      },
      "outputs": [],
      "source": [
        "conv3 = tf.keras.layers.Conv2D(filters = 96, kernel_size = (3,3), padding = 'Same', activation = 'relu')(pool2)"
      ]
    },
    {
      "cell_type": "code",
      "execution_count": 22,
      "id": "1ea5c54d",
      "metadata": {
        "id": "1ea5c54d"
      },
      "outputs": [],
      "source": [
        "pool3 = tf.keras.layers.MaxPooling2D(pool_size = (2,2), strides = (2,2))(conv3)"
      ]
    },
    {
      "cell_type": "code",
      "execution_count": 23,
      "id": "b70f073b",
      "metadata": {
        "id": "b70f073b"
      },
      "outputs": [],
      "source": [
        "conv4 = tf.keras.layers.Conv2D(filters = 96, kernel_size = (3,3), padding = 'Same', activation = 'relu')(pool3)"
      ]
    },
    {
      "cell_type": "code",
      "execution_count": 24,
      "id": "9bb798fb",
      "metadata": {
        "id": "9bb798fb"
      },
      "outputs": [],
      "source": [
        "pool4 = tf.keras.layers.MaxPooling2D(pool_size = (2,2), strides = (2,2))(conv4)"
      ]
    },
    {
      "cell_type": "code",
      "execution_count": 25,
      "id": "e61da430",
      "metadata": {
        "id": "e61da430"
      },
      "outputs": [],
      "source": [
        "flt1 = tf.keras.layers.Flatten()(pool4)"
      ]
    },
    {
      "cell_type": "code",
      "execution_count": 26,
      "id": "7c4e104b",
      "metadata": {
        "id": "7c4e104b"
      },
      "outputs": [],
      "source": [
        "dn1 = tf.keras.layers.Dense(256,activation = 'relu')(flt1)"
      ]
    },
    {
      "cell_type": "code",
      "execution_count": 27,
      "id": "f0accafa",
      "metadata": {
        "id": "f0accafa"
      },
      "outputs": [],
      "source": [
        "dn2 = tf.keras.layers.Dense(124,activation = 'relu')(dn1)"
      ]
    },
    {
      "cell_type": "code",
      "execution_count": 28,
      "id": "9e81ae67",
      "metadata": {
        "id": "9e81ae67"
      },
      "outputs": [],
      "source": [
        "out = tf.keras.layers.Dense(10,activation = 'softmax')(dn1)"
      ]
    },
    {
      "cell_type": "markdown",
      "source": [
        "**MODEL**"
      ],
      "metadata": {
        "id": "TfH4xjl_fhyd"
      },
      "id": "TfH4xjl_fhyd"
    },
    {
      "cell_type": "code",
      "execution_count": 29,
      "id": "efcf3c83",
      "metadata": {
        "id": "efcf3c83"
      },
      "outputs": [],
      "source": [
        "model = tf.keras.Model(input_layer, out)"
      ]
    },
    {
      "cell_type": "code",
      "execution_count": 30,
      "id": "e5094b38",
      "metadata": {
        "id": "e5094b38"
      },
      "outputs": [],
      "source": [
        "model.compile(optimizer = 'adam', loss = 'sparse_categorical_crossentropy', metrics = ['accuracy'])"
      ]
    },
    {
      "cell_type": "code",
      "source": [
        "model.summary()"
      ],
      "metadata": {
        "colab": {
          "base_uri": "https://localhost:8080/"
        },
        "id": "wjSKqpivj1IC",
        "outputId": "3cf9d758-afbc-4de2-f206-b91a2dd85d3c"
      },
      "id": "wjSKqpivj1IC",
      "execution_count": 31,
      "outputs": [
        {
          "output_type": "stream",
          "name": "stdout",
          "text": [
            "Model: \"model\"\n",
            "_________________________________________________________________\n",
            " Layer (type)                Output Shape              Param #   \n",
            "=================================================================\n",
            " input_1 (InputLayer)        [(None, 100, 100, 3)]     0         \n",
            "                                                                 \n",
            " conv2d (Conv2D)             (None, 100, 100, 64)      4864      \n",
            "                                                                 \n",
            " max_pooling2d_1 (MaxPooling  (None, 50, 50, 64)       0         \n",
            " 2D)                                                             \n",
            "                                                                 \n",
            " conv2d_1 (Conv2D)           (None, 50, 50, 64)        36928     \n",
            "                                                                 \n",
            " max_pooling2d_2 (MaxPooling  (None, 25, 25, 64)       0         \n",
            " 2D)                                                             \n",
            "                                                                 \n",
            " conv2d_2 (Conv2D)           (None, 25, 25, 96)        55392     \n",
            "                                                                 \n",
            " max_pooling2d_3 (MaxPooling  (None, 12, 12, 96)       0         \n",
            " 2D)                                                             \n",
            "                                                                 \n",
            " conv2d_3 (Conv2D)           (None, 12, 12, 96)        83040     \n",
            "                                                                 \n",
            " max_pooling2d_4 (MaxPooling  (None, 6, 6, 96)         0         \n",
            " 2D)                                                             \n",
            "                                                                 \n",
            " flatten (Flatten)           (None, 3456)              0         \n",
            "                                                                 \n",
            " dense (Dense)               (None, 256)               884992    \n",
            "                                                                 \n",
            " dense_2 (Dense)             (None, 10)                2570      \n",
            "                                                                 \n",
            "=================================================================\n",
            "Total params: 1,067,786\n",
            "Trainable params: 1,067,786\n",
            "Non-trainable params: 0\n",
            "_________________________________________________________________\n"
          ]
        }
      ]
    },
    {
      "cell_type": "markdown",
      "source": [
        "**FIT THE MODEL**"
      ],
      "metadata": {
        "id": "EG1szkMBkHgE"
      },
      "id": "EG1szkMBkHgE"
    },
    {
      "cell_type": "code",
      "execution_count": 32,
      "id": "9615e3eb",
      "metadata": {
        "colab": {
          "base_uri": "https://localhost:8080/"
        },
        "id": "9615e3eb",
        "outputId": "3e6091ac-453b-46c0-d8a3-93aed025557e"
      },
      "outputs": [
        {
          "output_type": "stream",
          "name": "stdout",
          "text": [
            "Epoch 1/15\n",
            "54/54 [==============================] - 12s 70ms/step - loss: 1.0934 - accuracy: 0.5893\n",
            "Epoch 2/15\n",
            "54/54 [==============================] - 3s 56ms/step - loss: 0.2831 - accuracy: 0.9029\n",
            "Epoch 3/15\n",
            "54/54 [==============================] - 3s 56ms/step - loss: 0.2291 - accuracy: 0.9201\n",
            "Epoch 4/15\n",
            "54/54 [==============================] - 3s 56ms/step - loss: 0.1566 - accuracy: 0.9500\n",
            "Epoch 5/15\n",
            "54/54 [==============================] - 3s 57ms/step - loss: 0.1304 - accuracy: 0.9584\n",
            "Epoch 6/15\n",
            "54/54 [==============================] - 3s 56ms/step - loss: 0.1037 - accuracy: 0.9623\n",
            "Epoch 7/15\n",
            "54/54 [==============================] - 3s 58ms/step - loss: 0.1108 - accuracy: 0.9627\n",
            "Epoch 8/15\n",
            "54/54 [==============================] - 3s 57ms/step - loss: 0.0827 - accuracy: 0.9701\n",
            "Epoch 9/15\n",
            "54/54 [==============================] - 3s 57ms/step - loss: 0.0608 - accuracy: 0.9773\n",
            "Epoch 10/15\n",
            "54/54 [==============================] - 3s 57ms/step - loss: 0.0569 - accuracy: 0.9798\n",
            "Epoch 11/15\n",
            "54/54 [==============================] - 3s 57ms/step - loss: 0.0415 - accuracy: 0.9850\n",
            "Epoch 12/15\n",
            "54/54 [==============================] - 3s 57ms/step - loss: 0.0474 - accuracy: 0.9820\n",
            "Epoch 13/15\n",
            "54/54 [==============================] - 3s 58ms/step - loss: 0.0302 - accuracy: 0.9900\n",
            "Epoch 14/15\n",
            "54/54 [==============================] - 3s 57ms/step - loss: 0.0492 - accuracy: 0.9827\n",
            "Epoch 15/15\n",
            "54/54 [==============================] - 3s 58ms/step - loss: 0.0331 - accuracy: 0.9877\n"
          ]
        },
        {
          "output_type": "execute_result",
          "data": {
            "text/plain": [
              "<keras.callbacks.History at 0x7f63baa17290>"
            ]
          },
          "metadata": {},
          "execution_count": 32
        }
      ],
      "source": [
        "model.fit(features, labels, batch_size = 100, epochs = 15)"
      ]
    },
    {
      "cell_type": "markdown",
      "source": [
        "**SAVE THE MODEL**"
      ],
      "metadata": {
        "id": "rqtkdYMAkNoK"
      },
      "id": "rqtkdYMAkNoK"
    },
    {
      "cell_type": "code",
      "execution_count": 33,
      "id": "d4e76ae0",
      "metadata": {
        "id": "d4e76ae0"
      },
      "outputs": [],
      "source": [
        "model.save('fruit_model.h5')"
      ]
    },
    {
      "cell_type": "code",
      "execution_count": 34,
      "id": "7be6bf8f",
      "metadata": {
        "id": "7be6bf8f"
      },
      "outputs": [],
      "source": [
        "data_dir = '/content/fruit-dataset/test'"
      ]
    },
    {
      "cell_type": "code",
      "execution_count": 35,
      "id": "bbf7d89e",
      "metadata": {
        "id": "bbf7d89e"
      },
      "outputs": [],
      "source": [
        "testdata = []"
      ]
    },
    {
      "cell_type": "code",
      "execution_count": 36,
      "id": "af618aea",
      "metadata": {
        "id": "af618aea"
      },
      "outputs": [],
      "source": [
        "img_size = 100\n",
        "def make_data():\n",
        "    for category in categories:\n",
        "        path = os.path.join(data_dir, category)\n",
        "        label = categories.index(category)\n",
        "        for img_name in os.listdir(path):\n",
        "            image_path = os.path.join(path, img_name)\n",
        "            image = cv2.imread(image_path)\n",
        "            try:\n",
        "                image = cv2.cvtColor(image, cv2.COLOR_BGR2RGB)\n",
        "                image = cv2.resize(image,(img_size,img_size))\n",
        "                image = np.array(image, dtype=np.float32)\n",
        "                testdata.append([image,label])\n",
        "            except Exception as e:\n",
        "                pass  \n",
        "            \n",
        "make_data() "
      ]
    },
    {
      "cell_type": "code",
      "execution_count": 37,
      "id": "2ce2ff37",
      "metadata": {
        "id": "2ce2ff37"
      },
      "outputs": [],
      "source": [
        "np.random.shuffle(testdata)"
      ]
    },
    {
      "cell_type": "code",
      "execution_count": 38,
      "id": "12ec4101",
      "metadata": {
        "id": "12ec4101"
      },
      "outputs": [],
      "source": [
        "tfeatures = []\n",
        "tlabels = []\n",
        "for img,label in testdata:\n",
        "    tfeatures.append(img)\n",
        "    tlabels.append(label)"
      ]
    },
    {
      "cell_type": "code",
      "execution_count": 39,
      "id": "9f12ef39",
      "metadata": {
        "id": "9f12ef39"
      },
      "outputs": [],
      "source": [
        "tfeatures = np.array(tfeatures, dtype = np.float32)\n",
        "tlabels = np.array(tlabels)\n",
        "tfeatures = tfeatures/255.0"
      ]
    },
    {
      "cell_type": "code",
      "execution_count": 40,
      "id": "1337530c",
      "metadata": {
        "id": "1337530c"
      },
      "outputs": [],
      "source": [
        "model = tf.keras.models.load_model('/content/fruit_model.h5')"
      ]
    },
    {
      "cell_type": "markdown",
      "source": [
        "**MODEL EVALUATION**"
      ],
      "metadata": {
        "id": "QWh6c61CkmWL"
      },
      "id": "QWh6c61CkmWL"
    },
    {
      "cell_type": "code",
      "execution_count": 41,
      "id": "f60e07d8",
      "metadata": {
        "colab": {
          "base_uri": "https://localhost:8080/"
        },
        "id": "f60e07d8",
        "outputId": "b0bddf41-8591-462d-bb10-a6d1807e1756"
      },
      "outputs": [
        {
          "output_type": "stream",
          "name": "stdout",
          "text": [
            "53/53 [==============================] - 1s 11ms/step - loss: 0.0927 - accuracy: 0.9751\n"
          ]
        },
        {
          "output_type": "execute_result",
          "data": {
            "text/plain": [
              "[0.09265818446874619, 0.9750889539718628]"
            ]
          },
          "metadata": {},
          "execution_count": 41
        }
      ],
      "source": [
        "model.evaluate(tfeatures, tlabels, verbose = 1)"
      ]
    },
    {
      "cell_type": "code",
      "execution_count": 42,
      "id": "f28044b1",
      "metadata": {
        "colab": {
          "base_uri": "https://localhost:8080/"
        },
        "id": "f28044b1",
        "outputId": "0b513abe-2114-4537-e25b-4adf0b458524"
      },
      "outputs": [
        {
          "output_type": "execute_result",
          "data": {
            "text/plain": [
              "1686"
            ]
          },
          "metadata": {},
          "execution_count": 42
        }
      ],
      "source": [
        "len(testdata)"
      ]
    },
    {
      "cell_type": "code",
      "execution_count": 43,
      "id": "a293e443",
      "metadata": {
        "colab": {
          "base_uri": "https://localhost:8080/"
        },
        "id": "a293e443",
        "outputId": "dbe84ef8-c08a-47d3-e440-40295fe5c6c4"
      },
      "outputs": [
        {
          "output_type": "stream",
          "name": "stdout",
          "text": [
            "53/53 [==============================] - 1s 9ms/step\n",
            "1644 / 1686\n"
          ]
        }
      ],
      "source": [
        "prediction = model.predict(tfeatures)\n",
        "count = 0\n",
        "for i in range(1686):\n",
        "    if categories[tlabels[i]] == categories[np.argmax(prediction[i]) ]:\n",
        "        count+=1\n",
        "print(count,'/',1686)\n",
        "   "
      ]
    },
    {
      "cell_type": "markdown",
      "source": [
        "**PREDICTING**"
      ],
      "metadata": {
        "id": "ojD0Cwcxkrkj"
      },
      "id": "ojD0Cwcxkrkj"
    },
    {
      "cell_type": "code",
      "execution_count": 44,
      "id": "5fd2d208",
      "metadata": {
        "colab": {
          "base_uri": "https://localhost:8080/"
        },
        "id": "5fd2d208",
        "outputId": "83ffba55-bdb5-4522-9ed6-6a041b64bc2b"
      },
      "outputs": [
        {
          "output_type": "stream",
          "name": "stdout",
          "text": [
            "Actual:Peach___Bacterial_spot\n",
            "Predictions:Peach___Bacterial_spot\n",
            "Actual:Peach___Bacterial_spot\n",
            "Predictions:Peach___Bacterial_spot\n",
            "Actual:Peach___Bacterial_spot\n",
            "Predictions:Peach___Bacterial_spot\n",
            "Actual:Apple___Black_rot\n",
            "Predictions:Apple___Black_rot\n",
            "Actual:Apple___healthy\n",
            "Predictions:Apple___healthy\n",
            "Actual:Peach___Bacterial_spot\n",
            "Predictions:Peach___Bacterial_spot\n",
            "Actual:Apple___healthy\n",
            "Predictions:Apple___healthy\n",
            "Actual:Apple___healthy\n",
            "Predictions:Apple___healthy\n",
            "Actual:Peach___Bacterial_spot\n",
            "Predictions:Peach___Bacterial_spot\n",
            "Actual:Corn_(maize)___Northern_Leaf_Blight\n",
            "Predictions:Corn_(maize)___Northern_Leaf_Blight\n",
            "Actual:Corn_(maize)___healthy\n",
            "Predictions:Corn_(maize)___healthy\n",
            "Actual:Apple___healthy\n",
            "Predictions:Apple___healthy\n",
            "Actual:Apple___healthy\n",
            "Predictions:Apple___healthy\n",
            "Actual:Apple___healthy\n",
            "Predictions:Peach___Bacterial_spot\n",
            "Actual:Peach___Bacterial_spot\n",
            "Predictions:Peach___Bacterial_spot\n",
            "Actual:Corn_(maize)___Northern_Leaf_Blight\n",
            "Predictions:Corn_(maize)___Northern_Leaf_Blight\n",
            "Actual:Apple___Black_rot\n",
            "Predictions:Apple___Black_rot\n",
            "Actual:Corn_(maize)___Northern_Leaf_Blight\n",
            "Predictions:Corn_(maize)___Northern_Leaf_Blight\n",
            "Actual:Peach___healthy\n",
            "Predictions:Peach___healthy\n",
            "Actual:Corn_(maize)___healthy\n",
            "Predictions:Corn_(maize)___healthy\n",
            "Actual:Peach___Bacterial_spot\n",
            "Predictions:Peach___Bacterial_spot\n",
            "Actual:Apple___healthy\n",
            "Predictions:Apple___healthy\n",
            "Actual:Apple___healthy\n",
            "Predictions:Apple___healthy\n",
            "Actual:Corn_(maize)___Northern_Leaf_Blight\n",
            "Predictions:Corn_(maize)___Northern_Leaf_Blight\n",
            "Actual:Peach___Bacterial_spot\n",
            "Predictions:Peach___Bacterial_spot\n",
            "Actual:Apple___healthy\n",
            "Predictions:Apple___healthy\n",
            "Actual:Corn_(maize)___healthy\n",
            "Predictions:Corn_(maize)___healthy\n",
            "Actual:Peach___Bacterial_spot\n",
            "Predictions:Peach___Bacterial_spot\n",
            "Actual:Apple___healthy\n",
            "Predictions:Apple___healthy\n",
            "Actual:Peach___Bacterial_spot\n",
            "Predictions:Peach___Bacterial_spot\n",
            "Actual:Peach___Bacterial_spot\n",
            "Predictions:Peach___Bacterial_spot\n",
            "Actual:Apple___healthy\n",
            "Predictions:Apple___healthy\n",
            "Actual:Peach___Bacterial_spot\n",
            "Predictions:Peach___Bacterial_spot\n",
            "Actual:Apple___healthy\n",
            "Predictions:Apple___healthy\n",
            "Actual:Corn_(maize)___Northern_Leaf_Blight\n",
            "Predictions:Corn_(maize)___Northern_Leaf_Blight\n",
            "Actual:Peach___Bacterial_spot\n",
            "Predictions:Peach___Bacterial_spot\n",
            "Actual:Peach___Bacterial_spot\n",
            "Predictions:Peach___Bacterial_spot\n",
            "Actual:Apple___Black_rot\n",
            "Predictions:Apple___Black_rot\n",
            "Actual:Corn_(maize)___healthy\n",
            "Predictions:Corn_(maize)___healthy\n",
            "Actual:Apple___healthy\n",
            "Predictions:Apple___healthy\n",
            "Actual:Apple___healthy\n",
            "Predictions:Apple___healthy\n",
            "Actual:Corn_(maize)___Northern_Leaf_Blight\n",
            "Predictions:Corn_(maize)___Northern_Leaf_Blight\n",
            "Actual:Peach___Bacterial_spot\n",
            "Predictions:Peach___Bacterial_spot\n",
            "Actual:Apple___Black_rot\n",
            "Predictions:Apple___Black_rot\n",
            "Actual:Corn_(maize)___healthy\n",
            "Predictions:Corn_(maize)___healthy\n",
            "Actual:Corn_(maize)___healthy\n",
            "Predictions:Corn_(maize)___healthy\n",
            "Actual:Corn_(maize)___healthy\n",
            "Predictions:Corn_(maize)___healthy\n",
            "Actual:Corn_(maize)___healthy\n",
            "Predictions:Corn_(maize)___healthy\n",
            "Actual:Apple___healthy\n",
            "Predictions:Apple___healthy\n",
            "Actual:Corn_(maize)___healthy\n",
            "Predictions:Corn_(maize)___healthy\n",
            "Actual:Peach___Bacterial_spot\n",
            "Predictions:Peach___healthy\n",
            "Actual:Apple___healthy\n",
            "Predictions:Apple___healthy\n",
            "Actual:Peach___Bacterial_spot\n",
            "Predictions:Peach___Bacterial_spot\n",
            "Actual:Peach___Bacterial_spot\n",
            "Predictions:Peach___Bacterial_spot\n",
            "Actual:Peach___Bacterial_spot\n",
            "Predictions:Peach___Bacterial_spot\n",
            "Actual:Peach___Bacterial_spot\n",
            "Predictions:Peach___Bacterial_spot\n",
            "Actual:Peach___Bacterial_spot\n",
            "Predictions:Peach___Bacterial_spot\n",
            "Actual:Apple___Black_rot\n",
            "Predictions:Apple___Black_rot\n",
            "Actual:Apple___Black_rot\n",
            "Predictions:Apple___Black_rot\n",
            "Actual:Peach___Bacterial_spot\n",
            "Predictions:Peach___Bacterial_spot\n",
            "Actual:Peach___Bacterial_spot\n",
            "Predictions:Peach___Bacterial_spot\n",
            "Actual:Peach___Bacterial_spot\n",
            "Predictions:Peach___Bacterial_spot\n",
            "Actual:Peach___healthy\n",
            "Predictions:Peach___healthy\n",
            "Actual:Apple___Black_rot\n",
            "Predictions:Apple___Black_rot\n",
            "Actual:Apple___healthy\n",
            "Predictions:Apple___healthy\n",
            "Actual:Corn_(maize)___healthy\n",
            "Predictions:Corn_(maize)___healthy\n",
            "Actual:Peach___Bacterial_spot\n",
            "Predictions:Peach___Bacterial_spot\n",
            "Actual:Apple___healthy\n",
            "Predictions:Apple___healthy\n",
            "Actual:Apple___healthy\n",
            "Predictions:Apple___healthy\n",
            "Actual:Apple___healthy\n",
            "Predictions:Apple___healthy\n",
            "Actual:Corn_(maize)___healthy\n",
            "Predictions:Corn_(maize)___healthy\n",
            "Actual:Apple___healthy\n",
            "Predictions:Apple___healthy\n",
            "Actual:Apple___Black_rot\n",
            "Predictions:Apple___Black_rot\n",
            "Actual:Corn_(maize)___healthy\n",
            "Predictions:Corn_(maize)___healthy\n",
            "Actual:Corn_(maize)___Northern_Leaf_Blight\n",
            "Predictions:Corn_(maize)___Northern_Leaf_Blight\n",
            "Actual:Peach___Bacterial_spot\n",
            "Predictions:Peach___Bacterial_spot\n",
            "Actual:Peach___Bacterial_spot\n",
            "Predictions:Peach___Bacterial_spot\n",
            "Actual:Peach___Bacterial_spot\n",
            "Predictions:Peach___Bacterial_spot\n",
            "Actual:Corn_(maize)___healthy\n",
            "Predictions:Corn_(maize)___healthy\n",
            "Actual:Apple___healthy\n",
            "Predictions:Apple___healthy\n",
            "Actual:Apple___healthy\n",
            "Predictions:Apple___healthy\n",
            "Actual:Corn_(maize)___healthy\n",
            "Predictions:Corn_(maize)___healthy\n",
            "Actual:Apple___healthy\n",
            "Predictions:Apple___healthy\n",
            "Actual:Corn_(maize)___healthy\n",
            "Predictions:Corn_(maize)___healthy\n",
            "Actual:Apple___healthy\n",
            "Predictions:Peach___Bacterial_spot\n",
            "Actual:Apple___healthy\n",
            "Predictions:Apple___healthy\n",
            "Actual:Apple___healthy\n",
            "Predictions:Apple___healthy\n",
            "Actual:Corn_(maize)___Northern_Leaf_Blight\n",
            "Predictions:Corn_(maize)___Northern_Leaf_Blight\n",
            "Actual:Apple___Black_rot\n",
            "Predictions:Apple___Black_rot\n",
            "Actual:Apple___healthy\n",
            "Predictions:Apple___healthy\n",
            "Actual:Peach___Bacterial_spot\n",
            "Predictions:Peach___Bacterial_spot\n",
            "Actual:Apple___healthy\n",
            "Predictions:Apple___healthy\n",
            "Actual:Peach___Bacterial_spot\n",
            "Predictions:Peach___Bacterial_spot\n",
            "Actual:Corn_(maize)___healthy\n",
            "Predictions:Corn_(maize)___healthy\n",
            "Actual:Apple___Black_rot\n",
            "Predictions:Apple___Black_rot\n",
            "Actual:Peach___Bacterial_spot\n",
            "Predictions:Peach___Bacterial_spot\n",
            "Actual:Apple___healthy\n",
            "Predictions:Apple___healthy\n",
            "Actual:Peach___Bacterial_spot\n",
            "Predictions:Peach___Bacterial_spot\n",
            "Actual:Corn_(maize)___healthy\n",
            "Predictions:Corn_(maize)___healthy\n",
            "Actual:Corn_(maize)___Northern_Leaf_Blight\n",
            "Predictions:Corn_(maize)___Northern_Leaf_Blight\n",
            "Actual:Apple___Black_rot\n",
            "Predictions:Apple___Black_rot\n",
            "Actual:Peach___Bacterial_spot\n",
            "Predictions:Peach___Bacterial_spot\n",
            "Actual:Peach___Bacterial_spot\n",
            "Predictions:Peach___Bacterial_spot\n",
            "Actual:Peach___Bacterial_spot\n",
            "Predictions:Peach___healthy\n",
            "Actual:Peach___Bacterial_spot\n",
            "Predictions:Peach___Bacterial_spot\n",
            "Actual:Corn_(maize)___Northern_Leaf_Blight\n",
            "Predictions:Corn_(maize)___Northern_Leaf_Blight\n",
            "Actual:Peach___Bacterial_spot\n",
            "Predictions:Peach___Bacterial_spot\n",
            "Actual:Peach___Bacterial_spot\n",
            "Predictions:Peach___Bacterial_spot\n",
            "Actual:Peach___Bacterial_spot\n",
            "Predictions:Peach___Bacterial_spot\n",
            "Actual:Apple___healthy\n",
            "Predictions:Apple___healthy\n",
            "Actual:Peach___Bacterial_spot\n",
            "Predictions:Peach___Bacterial_spot\n",
            "Actual:Corn_(maize)___healthy\n",
            "Predictions:Corn_(maize)___healthy\n",
            "Actual:Peach___Bacterial_spot\n",
            "Predictions:Peach___Bacterial_spot\n",
            "Actual:Corn_(maize)___Northern_Leaf_Blight\n",
            "Predictions:Corn_(maize)___Northern_Leaf_Blight\n",
            "Actual:Apple___healthy\n",
            "Predictions:Apple___healthy\n",
            "Actual:Corn_(maize)___Northern_Leaf_Blight\n",
            "Predictions:Corn_(maize)___Northern_Leaf_Blight\n",
            "Actual:Corn_(maize)___healthy\n",
            "Predictions:Corn_(maize)___healthy\n",
            "Actual:Peach___Bacterial_spot\n",
            "Predictions:Peach___Bacterial_spot\n",
            "Actual:Peach___healthy\n",
            "Predictions:Peach___healthy\n",
            "Actual:Corn_(maize)___healthy\n",
            "Predictions:Corn_(maize)___healthy\n",
            "Actual:Peach___Bacterial_spot\n",
            "Predictions:Peach___Bacterial_spot\n",
            "Actual:Corn_(maize)___healthy\n",
            "Predictions:Corn_(maize)___healthy\n",
            "Actual:Apple___healthy\n",
            "Predictions:Apple___healthy\n",
            "Actual:Apple___healthy\n",
            "Predictions:Apple___healthy\n",
            "Actual:Apple___healthy\n",
            "Predictions:Apple___healthy\n",
            "Actual:Corn_(maize)___Northern_Leaf_Blight\n",
            "Predictions:Corn_(maize)___Northern_Leaf_Blight\n",
            "Actual:Apple___healthy\n",
            "Predictions:Apple___healthy\n",
            "Actual:Apple___Black_rot\n",
            "Predictions:Apple___Black_rot\n",
            "Actual:Peach___healthy\n",
            "Predictions:Peach___healthy\n",
            "Actual:Apple___Black_rot\n",
            "Predictions:Apple___Black_rot\n",
            "Actual:Peach___healthy\n",
            "Predictions:Peach___healthy\n",
            "Actual:Peach___Bacterial_spot\n",
            "Predictions:Peach___Bacterial_spot\n",
            "Actual:Apple___healthy\n",
            "Predictions:Apple___healthy\n",
            "Actual:Corn_(maize)___Northern_Leaf_Blight\n",
            "Predictions:Corn_(maize)___Northern_Leaf_Blight\n",
            "Actual:Corn_(maize)___healthy\n",
            "Predictions:Corn_(maize)___healthy\n",
            "Actual:Peach___Bacterial_spot\n",
            "Predictions:Peach___Bacterial_spot\n",
            "Actual:Peach___Bacterial_spot\n",
            "Predictions:Peach___Bacterial_spot\n",
            "Actual:Apple___healthy\n",
            "Predictions:Peach___Bacterial_spot\n",
            "Actual:Corn_(maize)___healthy\n",
            "Predictions:Corn_(maize)___healthy\n",
            "Actual:Corn_(maize)___Northern_Leaf_Blight\n",
            "Predictions:Corn_(maize)___Northern_Leaf_Blight\n",
            "Actual:Peach___healthy\n",
            "Predictions:Peach___healthy\n",
            "Actual:Apple___Black_rot\n",
            "Predictions:Apple___Black_rot\n",
            "Actual:Apple___healthy\n",
            "Predictions:Apple___healthy\n",
            "Actual:Peach___Bacterial_spot\n",
            "Predictions:Peach___Bacterial_spot\n",
            "Actual:Apple___healthy\n",
            "Predictions:Apple___healthy\n",
            "Actual:Peach___Bacterial_spot\n",
            "Predictions:Peach___Bacterial_spot\n"
          ]
        }
      ],
      "source": [
        "for i in range(146):\n",
        "    print('Actual:' + categories[tlabels[i]] + '\\n' + 'Predictions:' + categories[np.argmax(prediction[i])])"
      ]
    },
    {
      "cell_type": "code",
      "execution_count": 45,
      "id": "bb6d67d5",
      "metadata": {
        "colab": {
          "base_uri": "https://localhost:8080/"
        },
        "id": "bb6d67d5",
        "outputId": "a884a9e3-2c7d-4b57-9480-7cf1a92dc7c4"
      },
      "outputs": [
        {
          "output_type": "stream",
          "name": "stdout",
          "text": [
            "1644 /1686\n",
            "97.50889679715303 %\n"
          ]
        }
      ],
      "source": [
        "hi = 0\n",
        "for i in range(1686):\n",
        "    if categories[tlabels[i]] == categories[np.argmax(prediction[i])]:\n",
        "        hi = hi + 1\n",
        "print(hi,'/' + '1686')\n",
        "print(hi*100/1686,'%')"
      ]
    }
  ],
  "metadata": {
    "kernelspec": {
      "display_name": "Python 3 (ipykernel)",
      "language": "python",
      "name": "python3"
    },
    "language_info": {
      "codemirror_mode": {
        "name": "ipython",
        "version": 3
      },
      "file_extension": ".py",
      "mimetype": "text/x-python",
      "name": "python",
      "nbconvert_exporter": "python",
      "pygments_lexer": "ipython3",
      "version": "3.9.13"
    },
    "colab": {
      "provenance": []
    },
    "accelerator": "GPU",
    "gpuClass": "standard"
  },
  "nbformat": 4,
  "nbformat_minor": 5
}